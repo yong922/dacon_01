{
 "cells": [
  {
   "cell_type": "markdown",
   "id": "c6d564f8-1cd9-49c1-a570-f1acf4edc4dd",
   "metadata": {},
   "source": [
    "# 🌺 고객 대출등급 분류 해커톤 - HYPERPARAMETER\n",
    "Evaluation Metric : Macro F1<br>\n",
    "Public Score : 전체 테스트 데이터 중 30%<br>\n",
    "Feature add score : 0.91, 0.92점대로 마감하기!"
   ]
  },
  {
   "cell_type": "code",
   "execution_count": 9,
   "id": "a8969d8c-d393-443b-a036-cdbc6d1d20a7",
   "metadata": {},
   "outputs": [],
   "source": [
    "import pandas as pd\n",
    "import numpy as np\n",
    "import matplotlib.pyplot as plt\n",
    "import seaborn as sns\n",
    "import warnings\n",
    "warnings.filterwarnings('ignore')\n",
    "\n",
    "plt.rcParams['font.family'] ='Malgun Gothic'\n",
    "plt.rcParams['axes.unicode_minus'] =False\n",
    "\n",
    "from sklearn.model_selection import cross_val_score, train_test_split\n",
    "from lightgbm import LGBMClassifier\n",
    "import lightgbm as lgb"
   ]
  },
  {
   "cell_type": "code",
   "execution_count": 84,
   "id": "47a15ab6-7dfc-40b7-8104-0c2f2fdbb1e7",
   "metadata": {},
   "outputs": [],
   "source": [
    "def load_dataset():\n",
    "    train = pd.read_csv('data/train.csv')\n",
    "    test = pd.read_csv('data/test.csv')\n",
    "    all_df = pd.concat([train,test])\n",
    "    return all_df\n",
    "\n",
    "def to_num(value):\n",
    "    try:\n",
    "        return int(value.split()[0])\n",
    "    except ValueError:\n",
    "        if value in ('10+ years','10+yea|rs'):\n",
    "            return 10\n",
    "        elif value in ('< 1 year','<1 year'):\n",
    "            return 0\n",
    "        else:\n",
    "            return np.nan\n",
    "\n",
    "def working_period_to_num(df):\n",
    "    df['근로기간'] = df['근로기간'].apply(to_num)\n",
    "    return df\n",
    "\n",
    "def upper_limit_95(df, columns):\n",
    "    for col in columns:\n",
    "        per95 = df[col].quantile(0.95)\n",
    "        df[col] = df[col].apply(lambda x : per95 if x > per95 else x)\n",
    "\n",
    "\n",
    "def feature_create(df):\n",
    "\n",
    "    #1\n",
    "    df['연체여부'] = df['총연체금액'].apply(lambda x : 1 if x!=0 else 0)\n",
    "    df['연체계좌여부'] = df['연체계좌수'].apply(lambda x : 1 if x!=0 else 0)\n",
    "    \n",
    "    df['상환비율'] = df['총상환원금']/df['대출금액']\n",
    "    df['상환이자비율'] = df['총상환이자']/df['대출금액']\n",
    "    df['상환원금이자비율'] = df['총상환원금']/(df['총상환이자']+1)\n",
    "    \n",
    "    #2\n",
    "    qu3 = int(df['대출금액'].quantile(0.3))\n",
    "    df['대출금액상한액지정'] = df['대출금액'].apply(lambda x : qu3 if x > qu3 else x)\n",
    "    \n",
    "    df['장기근로자'] = df['근로기간'].apply(lambda x: 0 if x < 10 else 1)\n",
    "    \n",
    "    #4\n",
    "    df['월상환금액'] = df['대출금액']/df['대출기간'].apply(lambda x : 36 if x == ' 36 months' else 60)/100000\n",
    "    df['월상환금액'] = np.ceil(df['월상환금액']).astype(int)\n",
    "    \n",
    "    return df\n",
    "\n",
    "def feature_preprocessing(df):\n",
    "    \n",
    "    # 상한설정\n",
    "    limit_col = ['연간소득','총계좌수','부채_대비_소득_비율',\n",
    "                 '총상환원금','총상환이자','상환원금이자비율']\n",
    "    upper_limit_95(df, limit_col)\n",
    "    \n",
    "    # 라벨 인코딩\n",
    "    to_label_col = ['대출기간', '주택소유상태', '대출목적']\n",
    "    for col in to_label_col:\n",
    "        df[col] = pd.factorize(df[col])[0]\n",
    "        \n",
    "    # 불필요한 실수를 정수형으로    \n",
    "    to_int_col = ['연간소득','총계좌수','총상환이자','총연체금액',\n",
    "                  '연체계좌수','최근_2년간_연체_횟수','총상환원금']\n",
    "    df[to_int_col] = df[to_int_col].astype(int)\n",
    "    \n",
    "    return df\n",
    "\n",
    "def dataset_line():\n",
    "    \n",
    "    df = load_dataset()\n",
    "    working_period_to_num(df)\n",
    "    feature_create(df)\n",
    "    feature_preprocessing(df)\n",
    "    \n",
    "    return df\n",
    "\n",
    "def model_train(df, params):\n",
    "    train = df[~df['대출등급'].isnull()]\n",
    "    test = df[df['대출등급'].isnull()].drop('대출등급',axis=1)\n",
    "    \n",
    "    X = train.drop(['ID','대출등급'], axis=1)\n",
    "    y = train['대출등급']\n",
    "\n",
    "    xt, xv, yt, yv = train_test_split(X,y,\n",
    "                                     test_size = 0.25,\n",
    "                                     random_state = 2024)\n",
    "    \n",
    "    model = LGBMClassifier(**params, verbose = -1)\n",
    "    model.fit(xt, yt, eval_set = [(xt,yt),(xv,yv)],\n",
    "              eval_metric = 'multi_logloss',\n",
    "              callbacks = [lgb.early_stopping(stopping_rounds=50), \n",
    "                          lgb.log_evaluation(period=100)])\n",
    "    \n",
    "    return model, test"
   ]
  },
  {
   "cell_type": "code",
   "execution_count": 83,
   "id": "8d02b2a5-2240-4e50-b90e-70f1157ecd1c",
   "metadata": {},
   "outputs": [],
   "source": [
    "# 4옵션 조건\n",
    "params = {'n_estimators': 1000,\n",
    "          'learning_rate': 0.01,\n",
    "          'colsample_bytree': 0.5, \n",
    "          'max_bin': 511, \n",
    "          'max_depth': 20, \n",
    "          'min_child_samples': 28, \n",
    "          'min_child_weight': 1, \n",
    "          'num_leaves': 64, \n",
    "          'reg_alpha': 0.01, \n",
    "          'reg_lambda': 0.001, \n",
    "          'subsample': 0.7851}"
   ]
  },
  {
   "cell_type": "code",
   "execution_count": 38,
   "id": "8d0ae8f5-dc18-4b3b-866f-f4e363b5b086",
   "metadata": {
    "tags": []
   },
   "outputs": [],
   "source": [
    "# 3옵션했을떄\n",
    "params = {'n_estimators': 1000,\n",
    "          'learning_rate': 0.01,\n",
    "          'colsample_bytree': 0.5,\n",
    "          'max_bin': 500, \n",
    "          'max_depth': 10, \n",
    "          'min_child_samples': 105, \n",
    "          'min_child_weight': 1, \n",
    "          'num_leaves': 64,\n",
    "          'reg_alpha': 0.01, \n",
    "          'reg_lambda': 0.001, \n",
    "          'subsample': 1.0}"
   ]
  },
  {
   "cell_type": "code",
   "execution_count": 85,
   "id": "ad0a9f73-a963-4204-8300-2d0f561bf9ac",
   "metadata": {},
   "outputs": [
    {
     "name": "stdout",
     "output_type": "stream",
     "text": [
      "Training until validation scores don't improve for 50 rounds\n",
      "[100]\ttraining's multi_logloss: 0.40627\tvalid_1's multi_logloss: 0.416241\n",
      "[200]\ttraining's multi_logloss: 0.191776\tvalid_1's multi_logloss: 0.209082\n",
      "[300]\ttraining's multi_logloss: 0.13017\tvalid_1's multi_logloss: 0.155478\n",
      "[400]\ttraining's multi_logloss: 0.102938\tvalid_1's multi_logloss: 0.136819\n",
      "[500]\ttraining's multi_logloss: 0.0887046\tvalid_1's multi_logloss: 0.131952\n",
      "[600]\ttraining's multi_logloss: 0.078408\tvalid_1's multi_logloss: 0.130551\n",
      "[700]\ttraining's multi_logloss: 0.070103\tvalid_1's multi_logloss: 0.129902\n",
      "Early stopping, best iteration is:\n",
      "[729]\ttraining's multi_logloss: 0.0679993\tvalid_1's multi_logloss: 0.129778\n"
     ]
    }
   ],
   "source": [
    "df = dataset_line()\n",
    "model, test = model_train(df, params)"
   ]
  },
  {
   "cell_type": "code",
   "execution_count": null,
   "id": "fd8328c5-6317-41dc-ab70-828e31393a56",
   "metadata": {},
   "outputs": [],
   "source": [
    "# [611]\ttraining's multi_logloss: 0.0756473\tvalid_1's multi_logloss: 0.136416 3옵션까지 넣었을 때\n",
    "# [453]\ttraining's multi_logloss: 0.0749756\tvalid_1's multi_logloss: 0.136327 학습률 0.027\n",
    "\n",
    "# 2파람으로 2돌렸을때\n",
    "# [680]\ttraining's multi_logloss: 0.0714743\tvalid_1's multi_logloss: 0.136183 학습률0.02\n",
    "# 3파람으로 2돌렸을때\n",
    "# [519]\ttraining's multi_logloss: 0.0630685\tvalid_1's multi_logloss: 0.130171 학습률0.02\n",
    "# [989]\ttraining's multi_logloss: 0.0655046\tvalid_1's multi_logloss: 0.130099 학습률 0.01\n",
    "\n",
    "# 4파람으로 0.01돌렸을떄\n",
    "# [645]\ttraining's multi_logloss: 0.082458\tvalid_1's multi_logloss: 0.131714\n",
    "# [264]\ttraining's multi_logloss: 0.0731801\tvalid_1's multi_logloss: 0.133678 학습률 0.03"
   ]
  },
  {
   "cell_type": "code",
   "execution_count": 8,
   "id": "98ff56a4-9bba-4258-adc8-b4f775aa726a",
   "metadata": {},
   "outputs": [
    {
     "name": "stdout",
     "output_type": "stream",
     "text": [
      "<class 'pandas.core.frame.DataFrame'>\n",
      "Int64Index: 160491 entries, 0 to 64196\n",
      "Data columns (total 22 columns):\n",
      " #   Column        Non-Null Count   Dtype  \n",
      "---  ------        --------------   -----  \n",
      " 0   ID            160491 non-null  object \n",
      " 1   대출금액          160491 non-null  int64  \n",
      " 2   대출기간          160491 non-null  int64  \n",
      " 3   근로기간          149446 non-null  float64\n",
      " 4   주택소유상태        160491 non-null  int64  \n",
      " 5   연간소득          160491 non-null  int32  \n",
      " 6   부채_대비_소득_비율   160491 non-null  float64\n",
      " 7   총계좌수          160491 non-null  int32  \n",
      " 8   대출목적          160491 non-null  int64  \n",
      " 9   최근_2년간_연체_횟수  160491 non-null  int32  \n",
      " 10  총상환원금         160491 non-null  int32  \n",
      " 11  총상환이자         160491 non-null  int32  \n",
      " 12  총연체금액         160491 non-null  int32  \n",
      " 13  연체계좌수         160491 non-null  int32  \n",
      " 14  대출등급          96294 non-null   object \n",
      " 15  연체여부          160491 non-null  int64  \n",
      " 16  연체계좌여부        160491 non-null  int64  \n",
      " 17  상환비율          160491 non-null  float64\n",
      " 18  상환이자비율        160491 non-null  float64\n",
      " 19  상환원금이자비율      160491 non-null  float64\n",
      " 20  대출금액상한액지정     160491 non-null  int64  \n",
      " 21  장기근로자         160491 non-null  int64  \n",
      "dtypes: float64(5), int32(7), int64(8), object(2)\n",
      "memory usage: 23.9+ MB\n"
     ]
    }
   ],
   "source": [
    "df.info()"
   ]
  },
  {
   "cell_type": "code",
   "execution_count": 11,
   "id": "2008d2f1-95c2-4e17-b10d-e75d4f836f99",
   "metadata": {},
   "outputs": [
    {
     "data": {
      "image/png": "[encoded data removed]",
      "text/plain": [
       "<Figure size 800x600 with 1 Axes>"
      ]
     },
     "metadata": {},
     "output_type": "display_data"
    }
   ],
   "source": [
    "from lightgbm import plot_importance\n",
    "plot_importance(model, figsize=(8, 6))\n",
    "plt.show()"
   ]
  },
  {
   "cell_type": "code",
   "execution_count": 5,
   "id": "d5377afe-7cd6-413c-838f-4a3e8482d4d2",
   "metadata": {},
   "outputs": [
    {
     "data": {
      "text/plain": [
       "array(['B', 'B', 'A', ..., 'D', 'C', 'A'], dtype=object)"
      ]
     },
     "execution_count": 5,
     "metadata": {},
     "output_type": "execute_result"
    }
   ],
   "source": [
    "id_list = test['ID']\n",
    "pred = model.predict(test.drop(['ID'],axis=1))\n",
    "pred"
   ]
  },
  {
   "cell_type": "code",
   "execution_count": 6,
   "id": "e3f496b5-8e01-4f29-80e1-61a6ac626224",
   "metadata": {},
   "outputs": [],
   "source": [
    "dic = {'ID' : id_list,\n",
    "      '대출등급' : pred}\n",
    "result = pd.DataFrame(dic)"
   ]
  },
  {
   "cell_type": "code",
   "execution_count": 8,
   "id": "49a8f717-7a9a-4d9d-a2a3-c4708f634758",
   "metadata": {},
   "outputs": [],
   "source": [
    "result.to_csv('submit04.csv',index=False)"
   ]
  },
  {
   "cell_type": "code",
   "execution_count": null,
   "id": "28a71ea9-239c-45e5-ae52-302a28159bbe",
   "metadata": {},
   "outputs": [],
   "source": []
  },
  {
   "cell_type": "markdown",
   "id": "659e967f-a7c1-4ea7-a306-db83f7362c93",
   "metadata": {
    "tags": []
   },
   "source": [
    "## ● 베이지안 최적화"
   ]
  },
  {
   "cell_type": "code",
   "execution_count": 77,
   "id": "91ae184e-cb27-424d-ba4f-365529a97303",
   "metadata": {},
   "outputs": [],
   "source": [
    "from bayes_opt import BayesianOptimization\n",
    "from sklearn.metrics import log_loss"
   ]
  },
  {
   "cell_type": "code",
   "execution_count": 78,
   "id": "e639c560-14ed-4b29-ada3-5f1247c1628d",
   "metadata": {},
   "outputs": [],
   "source": [
    "df = dataset_line()"
   ]
  },
  {
   "cell_type": "code",
   "execution_count": 79,
   "id": "d69fe9a6-1a0d-48e3-8c69-8c298454f17e",
   "metadata": {},
   "outputs": [],
   "source": [
    "train = df[~df['대출등급'].isnull()]\n",
    "test = df[df['대출등급'].isnull()].drop('대출등급',axis=1)\n",
    "\n",
    "X = train.drop(['ID','대출등급'], axis=1)\n",
    "y = train['대출등급']\n",
    "\n",
    "label_mapping = {'A': 0, 'B': 1, 'C': 2, 'D': 3, 'E':4, 'F':5, 'G':6}\n",
    "y = y.map(label_mapping)\n",
    "\n",
    "xt, xv, yt, yv = train_test_split(X,y,\n",
    "                                 test_size = 0.25,\n",
    "                                 random_state = 2024)"
   ]
  },
  {
   "cell_type": "code",
   "execution_count": 80,
   "id": "082b6d51-3cd2-421c-9675-5f0f8047f6be",
   "metadata": {},
   "outputs": [],
   "source": [
    "bayesian_params = {\n",
    "    'max_depth' : (10, 20),\n",
    "    'num_leaves' : (24, 64),\n",
    "    'min_child_samples' : (10, 200),\n",
    "    'min_child_weight' : (1, 20),\n",
    "    'subsample' : (0.5, 1),\n",
    "    'colsample_bytree' : (0.5, 1),\n",
    "    'max_bin' : (200, 600),\n",
    "    'reg_lambda' : (0.001, 10),\n",
    "    'reg_alpha' : (0.01, 50),\n",
    "}"
   ]
  },
  {
   "cell_type": "code",
   "execution_count": 81,
   "id": "5c88e28f-6dc1-4f5e-baff-031738eb74e3",
   "metadata": {},
   "outputs": [],
   "source": [
    "def lgb_roc_eval(max_depth, num_leaves, min_child_samples, min_child_weight,\n",
    "                subsample, colsample_bytree, max_bin, reg_lambda, reg_alpha):\n",
    "    \n",
    "    params = {\n",
    "        \"n_estimators\": 500, \"learning_rate\": 0.02,\n",
    "        \"max_depth\" : int(round(max_depth)),\n",
    "        \"num_leaves\" : int(round(num_leaves)),\n",
    "        'min_child_samples': int(round(min_child_samples)),\n",
    "        'min_child_weight': int(round(min_child_weight)),\n",
    "        'subsample' : max(min(subsample, 1), 0), # 범위를 지정\n",
    "        'colsample_bytree' : max(min(colsample_bytree, 1), 0),\n",
    "        'max_bin':  max(int(round(max_bin)),10),\n",
    "        'reg_lambda': max(reg_lambda,0),\n",
    "        'reg_alpha': max(reg_alpha, 0)\n",
    "    }\n",
    "    \n",
    "    lgb_model = LGBMClassifier(**params, verbose=-1)\n",
    "    lgb_model.fit(xt, yt, eval_set=[(xt, yt), (xv, yv)], \n",
    "                  eval_metric= 'multi_logloss',\n",
    "                  callbacks=[lgb.early_stopping(stopping_rounds=50),\n",
    "                             lgb.log_evaluation(period = 100)])\n",
    "    valid_proba = lgb_model.predict_proba(xv)\n",
    "    loss = log_loss(yv, valid_proba)\n",
    "    \n",
    "    return -loss"
   ]
  },
  {
   "cell_type": "code",
   "execution_count": 82,
   "id": "e6a14839-99f7-4813-9599-050d7eff7c16",
   "metadata": {
    "tags": []
   },
   "outputs": [
    {
     "name": "stdout",
     "output_type": "stream",
     "text": [
      "|   iter    |  target   | colsam... |  max_bin  | max_depth | min_ch... | min_ch... | num_le... | reg_alpha | reg_la... | subsample |\n",
      "-------------------------------------------------------------------------------------------------------------------------------------\n",
      "Training until validation scores don't improve for 50 rounds\n",
      "[100]\ttraining's multi_logloss: 0.285395\tvalid_1's multi_logloss: 0.287275\n",
      "[200]\ttraining's multi_logloss: 0.193677\tvalid_1's multi_logloss: 0.197571\n",
      "[300]\ttraining's multi_logloss: 0.179494\tvalid_1's multi_logloss: 0.184473\n",
      "[400]\ttraining's multi_logloss: 0.173406\tvalid_1's multi_logloss: 0.17888\n",
      "[500]\ttraining's multi_logloss: 0.171052\tvalid_1's multi_logloss: 0.176782\n",
      "Did not meet early stopping. Best iteration is:\n",
      "[500]\ttraining's multi_logloss: 0.171052\tvalid_1's multi_logloss: 0.176782\n",
      "| \u001b[0m1        \u001b[0m | \u001b[0m-0.1768  \u001b[0m | \u001b[0m0.794    \u001b[0m | \u001b[0m479.6    \u001b[0m | \u001b[0m11.88    \u001b[0m | \u001b[0m18.32    \u001b[0m | \u001b[0m4.895    \u001b[0m | \u001b[0m28.24    \u001b[0m | \u001b[0m36.36    \u001b[0m | \u001b[0m6.794    \u001b[0m | \u001b[0m0.7369   \u001b[0m |\n",
      "Training until validation scores don't improve for 50 rounds\n",
      "[100]\ttraining's multi_logloss: 0.301627\tvalid_1's multi_logloss: 0.303859\n",
      "[200]\ttraining's multi_logloss: 0.206305\tvalid_1's multi_logloss: 0.210247\n",
      "[300]\ttraining's multi_logloss: 0.190515\tvalid_1's multi_logloss: 0.195418\n",
      "[400]\ttraining's multi_logloss: 0.184139\tvalid_1's multi_logloss: 0.189586\n",
      "[500]\ttraining's multi_logloss: 0.180139\tvalid_1's multi_logloss: 0.185933\n",
      "Did not meet early stopping. Best iteration is:\n",
      "[500]\ttraining's multi_logloss: 0.180139\tvalid_1's multi_logloss: 0.185933\n",
      "| \u001b[0m2        \u001b[0m | \u001b[0m-0.1859  \u001b[0m | \u001b[0m0.7241   \u001b[0m | \u001b[0m207.6    \u001b[0m | \u001b[0m17.53    \u001b[0m | \u001b[0m124.5    \u001b[0m | \u001b[0m19.27    \u001b[0m | \u001b[0m50.57    \u001b[0m | \u001b[0m30.34    \u001b[0m | \u001b[0m4.492    \u001b[0m | \u001b[0m0.6127   \u001b[0m |\n",
      "Training until validation scores don't improve for 50 rounds\n",
      "[100]\ttraining's multi_logloss: 0.247121\tvalid_1's multi_logloss: 0.250033\n",
      "[200]\ttraining's multi_logloss: 0.165014\tvalid_1's multi_logloss: 0.171006\n",
      "[300]\ttraining's multi_logloss: 0.151627\tvalid_1's multi_logloss: 0.160317\n",
      "[400]\ttraining's multi_logloss: 0.144838\tvalid_1's multi_logloss: 0.155267\n",
      "[500]\ttraining's multi_logloss: 0.140672\tvalid_1's multi_logloss: 0.152399\n",
      "Did not meet early stopping. Best iteration is:\n",
      "[500]\ttraining's multi_logloss: 0.140672\tvalid_1's multi_logloss: 0.152399\n",
      "| \u001b[95m3        \u001b[0m | \u001b[95m-0.1524  \u001b[0m | \u001b[95m0.8351   \u001b[0m | \u001b[95m494.3    \u001b[0m | \u001b[95m12.58    \u001b[0m | \u001b[95m28.15    \u001b[0m | \u001b[95m19.26    \u001b[0m | \u001b[95m34.07    \u001b[0m | \u001b[95m14.12    \u001b[0m | \u001b[95m7.683    \u001b[0m | \u001b[95m0.899    \u001b[0m |\n",
      "Training until validation scores don't improve for 50 rounds\n",
      "[100]\ttraining's multi_logloss: 0.276447\tvalid_1's multi_logloss: 0.280535\n",
      "[200]\ttraining's multi_logloss: 0.18576\tvalid_1's multi_logloss: 0.191722\n",
      "[300]\ttraining's multi_logloss: 0.169366\tvalid_1's multi_logloss: 0.177058\n",
      "[400]\ttraining's multi_logloss: 0.163048\tvalid_1's multi_logloss: 0.171674\n",
      "[500]\ttraining's multi_logloss: 0.159115\tvalid_1's multi_logloss: 0.168291\n",
      "Did not meet early stopping. Best iteration is:\n",
      "[500]\ttraining's multi_logloss: 0.159115\tvalid_1's multi_logloss: 0.168291\n",
      "| \u001b[0m4        \u001b[0m | \u001b[0m-0.1683  \u001b[0m | \u001b[0m0.772    \u001b[0m | \u001b[0m353.1    \u001b[0m | \u001b[0m13.82    \u001b[0m | \u001b[0m64.31    \u001b[0m | \u001b[0m15.07    \u001b[0m | \u001b[0m33.56    \u001b[0m | \u001b[0m21.89    \u001b[0m | \u001b[0m8.836    \u001b[0m | \u001b[0m0.6446   \u001b[0m |\n",
      "Training until validation scores don't improve for 50 rounds\n",
      "[100]\ttraining's multi_logloss: 0.271069\tvalid_1's multi_logloss: 0.273096\n",
      "[200]\ttraining's multi_logloss: 0.184472\tvalid_1's multi_logloss: 0.188827\n",
      "[300]\ttraining's multi_logloss: 0.170131\tvalid_1's multi_logloss: 0.175964\n",
      "[400]\ttraining's multi_logloss: 0.164043\tvalid_1's multi_logloss: 0.17051\n",
      "[500]\ttraining's multi_logloss: 0.161013\tvalid_1's multi_logloss: 0.167841\n",
      "Did not meet early stopping. Best iteration is:\n",
      "[500]\ttraining's multi_logloss: 0.161013\tvalid_1's multi_logloss: 0.167841\n",
      "| \u001b[0m5        \u001b[0m | \u001b[0m-0.1678  \u001b[0m | \u001b[0m0.8923   \u001b[0m | \u001b[0m503.6    \u001b[0m | \u001b[0m14.18    \u001b[0m | \u001b[0m52.9     \u001b[0m | \u001b[0m8.982    \u001b[0m | \u001b[0m26.57    \u001b[0m | \u001b[0m29.83    \u001b[0m | \u001b[0m8.373    \u001b[0m | \u001b[0m0.9462   \u001b[0m |\n",
      "Training until validation scores don't improve for 50 rounds\n",
      "[100]\ttraining's multi_logloss: 0.269871\tvalid_1's multi_logloss: 0.273573\n",
      "[200]\ttraining's multi_logloss: 0.176578\tvalid_1's multi_logloss: 0.183079\n",
      "[300]\ttraining's multi_logloss: 0.159877\tvalid_1's multi_logloss: 0.168915\n",
      "[400]\ttraining's multi_logloss: 0.151597\tvalid_1's multi_logloss: 0.162213\n",
      "[500]\ttraining's multi_logloss: 0.147045\tvalid_1's multi_logloss: 0.158803\n",
      "Did not meet early stopping. Best iteration is:\n",
      "[500]\ttraining's multi_logloss: 0.147045\tvalid_1's multi_logloss: 0.158803\n",
      "| \u001b[0m6        \u001b[0m | \u001b[0m-0.1588  \u001b[0m | \u001b[0m0.6562   \u001b[0m | \u001b[0m356.3    \u001b[0m | \u001b[0m11.47    \u001b[0m | \u001b[0m65.45    \u001b[0m | \u001b[0m12.03    \u001b[0m | \u001b[0m38.23    \u001b[0m | \u001b[0m14.61    \u001b[0m | \u001b[0m8.394    \u001b[0m | \u001b[0m0.644    \u001b[0m |\n",
      "Training until validation scores don't improve for 50 rounds\n",
      "[100]\ttraining's multi_logloss: 0.240994\tvalid_1's multi_logloss: 0.245\n",
      "[200]\ttraining's multi_logloss: 0.159491\tvalid_1's multi_logloss: 0.167248\n",
      "[300]\ttraining's multi_logloss: 0.146149\tvalid_1's multi_logloss: 0.157131\n",
      "[400]\ttraining's multi_logloss: 0.139198\tvalid_1's multi_logloss: 0.152494\n",
      "[500]\ttraining's multi_logloss: 0.134795\tvalid_1's multi_logloss: 0.150029\n",
      "Did not meet early stopping. Best iteration is:\n",
      "[500]\ttraining's multi_logloss: 0.134795\tvalid_1's multi_logloss: 0.150029\n",
      "| \u001b[95m7        \u001b[0m | \u001b[95m-0.15    \u001b[0m | \u001b[95m0.8219   \u001b[0m | \u001b[95m490.2    \u001b[0m | \u001b[95m12.6     \u001b[0m | \u001b[95m34.02    \u001b[0m | \u001b[95m17.98    \u001b[0m | \u001b[95m35.82    \u001b[0m | \u001b[95m10.86    \u001b[0m | \u001b[95m5.471    \u001b[0m | \u001b[95m0.8533   \u001b[0m |\n",
      "Training until validation scores don't improve for 50 rounds\n",
      "[100]\ttraining's multi_logloss: 0.256998\tvalid_1's multi_logloss: 0.260162\n",
      "[200]\ttraining's multi_logloss: 0.16836\tvalid_1's multi_logloss: 0.174573\n",
      "[300]\ttraining's multi_logloss: 0.153663\tvalid_1's multi_logloss: 0.162438\n",
      "[400]\ttraining's multi_logloss: 0.145903\tvalid_1's multi_logloss: 0.156364\n",
      "[500]\ttraining's multi_logloss: 0.141294\tvalid_1's multi_logloss: 0.153027\n",
      "Did not meet early stopping. Best iteration is:\n",
      "[500]\ttraining's multi_logloss: 0.141294\tvalid_1's multi_logloss: 0.153027\n",
      "| \u001b[0m8        \u001b[0m | \u001b[0m-0.153   \u001b[0m | \u001b[0m0.7299   \u001b[0m | \u001b[0m491.3    \u001b[0m | \u001b[0m14.14    \u001b[0m | \u001b[0m27.22    \u001b[0m | \u001b[0m16.41    \u001b[0m | \u001b[0m27.67    \u001b[0m | \u001b[0m13.73    \u001b[0m | \u001b[0m3.282    \u001b[0m | \u001b[0m0.763    \u001b[0m |\n",
      "Training until validation scores don't improve for 50 rounds\n",
      "[100]\ttraining's multi_logloss: 0.266197\tvalid_1's multi_logloss: 0.268823\n",
      "[200]\ttraining's multi_logloss: 0.173287\tvalid_1's multi_logloss: 0.178786\n",
      "[300]\ttraining's multi_logloss: 0.157522\tvalid_1's multi_logloss: 0.165218\n",
      "[400]\ttraining's multi_logloss: 0.150152\tvalid_1's multi_logloss: 0.159255\n",
      "[500]\ttraining's multi_logloss: 0.146186\tvalid_1's multi_logloss: 0.156339\n",
      "Did not meet early stopping. Best iteration is:\n",
      "[500]\ttraining's multi_logloss: 0.146186\tvalid_1's multi_logloss: 0.156339\n",
      "| \u001b[0m9        \u001b[0m | \u001b[0m-0.1563  \u001b[0m | \u001b[0m0.6913   \u001b[0m | \u001b[0m491.9    \u001b[0m | \u001b[0m13.43    \u001b[0m | \u001b[0m30.68    \u001b[0m | \u001b[0m13.7     \u001b[0m | \u001b[0m31.67    \u001b[0m | \u001b[0m16.37    \u001b[0m | \u001b[0m9.797    \u001b[0m | \u001b[0m0.9987   \u001b[0m |\n",
      "Training until validation scores don't improve for 50 rounds\n",
      "[100]\ttraining's multi_logloss: 0.224745\tvalid_1's multi_logloss: 0.231793\n",
      "[200]\ttraining's multi_logloss: 0.135749\tvalid_1's multi_logloss: 0.150854\n",
      "[300]\ttraining's multi_logloss: 0.116825\tvalid_1's multi_logloss: 0.141702\n",
      "[400]\ttraining's multi_logloss: 0.105799\tvalid_1's multi_logloss: 0.139033\n",
      "[500]\ttraining's multi_logloss: 0.0976703\tvalid_1's multi_logloss: 0.137901\n",
      "Did not meet early stopping. Best iteration is:\n",
      "[496]\ttraining's multi_logloss: 0.0979553\tvalid_1's multi_logloss: 0.137895\n",
      "| \u001b[95m10       \u001b[0m | \u001b[95m-0.1379  \u001b[0m | \u001b[95m0.5      \u001b[0m | \u001b[95m486.9    \u001b[0m | \u001b[95m20.0     \u001b[0m | \u001b[95m21.79    \u001b[0m | \u001b[95m20.0     \u001b[0m | \u001b[95m52.07    \u001b[0m | \u001b[95m0.01     \u001b[0m | \u001b[95m0.001    \u001b[0m | \u001b[95m0.5      \u001b[0m |\n",
      "Training until validation scores don't improve for 50 rounds\n",
      "[100]\ttraining's multi_logloss: 0.219981\tvalid_1's multi_logloss: 0.228855\n",
      "[200]\ttraining's multi_logloss: 0.132813\tvalid_1's multi_logloss: 0.150675\n",
      "[300]\ttraining's multi_logloss: 0.113718\tvalid_1's multi_logloss: 0.141798\n",
      "[400]\ttraining's multi_logloss: 0.102796\tvalid_1's multi_logloss: 0.139327\n",
      "[500]\ttraining's multi_logloss: 0.0949154\tvalid_1's multi_logloss: 0.138433\n",
      "Did not meet early stopping. Best iteration is:\n",
      "[482]\ttraining's multi_logloss: 0.0961829\tvalid_1's multi_logloss: 0.138415\n",
      "| \u001b[0m11       \u001b[0m | \u001b[0m-0.1384  \u001b[0m | \u001b[0m0.5      \u001b[0m | \u001b[0m461.7    \u001b[0m | \u001b[0m20.0     \u001b[0m | \u001b[0m32.22    \u001b[0m | \u001b[0m20.0     \u001b[0m | \u001b[0m64.0     \u001b[0m | \u001b[0m0.01     \u001b[0m | \u001b[0m0.001    \u001b[0m | \u001b[0m0.5      \u001b[0m |\n",
      "Training until validation scores don't improve for 50 rounds\n",
      "[100]\ttraining's multi_logloss: 0.270523\tvalid_1's multi_logloss: 0.273296\n",
      "[200]\ttraining's multi_logloss: 0.167823\tvalid_1's multi_logloss: 0.173591\n",
      "[300]\ttraining's multi_logloss: 0.149442\tvalid_1's multi_logloss: 0.158136\n",
      "[400]\ttraining's multi_logloss: 0.140026\tvalid_1's multi_logloss: 0.150956\n",
      "[500]\ttraining's multi_logloss: 0.134317\tvalid_1's multi_logloss: 0.14724\n",
      "Did not meet early stopping. Best iteration is:\n",
      "[500]\ttraining's multi_logloss: 0.134317\tvalid_1's multi_logloss: 0.14724\n",
      "| \u001b[0m12       \u001b[0m | \u001b[0m-0.1472  \u001b[0m | \u001b[0m0.547    \u001b[0m | \u001b[0m491.8    \u001b[0m | \u001b[0m14.9     \u001b[0m | \u001b[0m30.67    \u001b[0m | \u001b[0m10.32    \u001b[0m | \u001b[0m27.55    \u001b[0m | \u001b[0m10.06    \u001b[0m | \u001b[0m0.3616   \u001b[0m | \u001b[0m0.8644   \u001b[0m |\n",
      "Training until validation scores don't improve for 50 rounds\n",
      "[100]\ttraining's multi_logloss: 0.193638\tvalid_1's multi_logloss: 0.210924\n",
      "[200]\ttraining's multi_logloss: 0.102932\tvalid_1's multi_logloss: 0.136247\n",
      "[300]\ttraining's multi_logloss: 0.0785248\tvalid_1's multi_logloss: 0.13032\n",
      "[400]\ttraining's multi_logloss: 0.0633222\tvalid_1's multi_logloss: 0.129654\n",
      "Early stopping, best iteration is:\n",
      "[416]\ttraining's multi_logloss: 0.0614015\tvalid_1's multi_logloss: 0.129546\n",
      "| \u001b[95m13       \u001b[0m | \u001b[95m-0.1295  \u001b[0m | \u001b[95m0.5      \u001b[0m | \u001b[95m511.8    \u001b[0m | \u001b[95m20.0     \u001b[0m | \u001b[95m28.45    \u001b[0m | \u001b[95m1.0      \u001b[0m | \u001b[95m64.0     \u001b[0m | \u001b[95m0.01     \u001b[0m | \u001b[95m0.001    \u001b[0m | \u001b[95m0.7851   \u001b[0m |\n",
      "Training until validation scores don't improve for 50 rounds\n",
      "[100]\ttraining's multi_logloss: 0.215557\tvalid_1's multi_logloss: 0.223931\n",
      "[200]\ttraining's multi_logloss: 0.128823\tvalid_1's multi_logloss: 0.146663\n",
      "[300]\ttraining's multi_logloss: 0.109599\tvalid_1's multi_logloss: 0.138476\n",
      "[400]\ttraining's multi_logloss: 0.0986613\tvalid_1's multi_logloss: 0.136408\n",
      "[500]\ttraining's multi_logloss: 0.0906381\tvalid_1's multi_logloss: 0.135734\n",
      "Did not meet early stopping. Best iteration is:\n",
      "[500]\ttraining's multi_logloss: 0.0906381\tvalid_1's multi_logloss: 0.135734\n",
      "| \u001b[0m14       \u001b[0m | \u001b[0m-0.1357  \u001b[0m | \u001b[0m0.5      \u001b[0m | \u001b[0m545.3    \u001b[0m | \u001b[0m20.0     \u001b[0m | \u001b[0m10.0     \u001b[0m | \u001b[0m17.72    \u001b[0m | \u001b[0m64.0     \u001b[0m | \u001b[0m0.01     \u001b[0m | \u001b[0m0.001    \u001b[0m | \u001b[0m0.7529   \u001b[0m |\n",
      "Training until validation scores don't improve for 50 rounds\n",
      "[100]\ttraining's multi_logloss: 0.227314\tvalid_1's multi_logloss: 0.231918\n",
      "[200]\ttraining's multi_logloss: 0.150076\tvalid_1's multi_logloss: 0.158861\n",
      "[300]\ttraining's multi_logloss: 0.136307\tvalid_1's multi_logloss: 0.149599\n",
      "[400]\ttraining's multi_logloss: 0.128451\tvalid_1's multi_logloss: 0.145677\n",
      "[500]\ttraining's multi_logloss: 0.123226\tvalid_1's multi_logloss: 0.143865\n",
      "Did not meet early stopping. Best iteration is:\n",
      "[500]\ttraining's multi_logloss: 0.123226\tvalid_1's multi_logloss: 0.143865\n",
      "| \u001b[0m15       \u001b[0m | \u001b[0m-0.1439  \u001b[0m | \u001b[0m0.8735   \u001b[0m | \u001b[0m516.0    \u001b[0m | \u001b[0m15.12    \u001b[0m | \u001b[0m39.66    \u001b[0m | \u001b[0m13.55    \u001b[0m | \u001b[0m36.21    \u001b[0m | \u001b[0m7.461    \u001b[0m | \u001b[0m4.531    \u001b[0m | \u001b[0m0.88     \u001b[0m |\n",
      "Training until validation scores don't improve for 50 rounds\n",
      "[100]\ttraining's multi_logloss: 0.220663\tvalid_1's multi_logloss: 0.225874\n",
      "[200]\ttraining's multi_logloss: 0.146137\tvalid_1's multi_logloss: 0.156472\n",
      "[300]\ttraining's multi_logloss: 0.131764\tvalid_1's multi_logloss: 0.146941\n",
      "[400]\ttraining's multi_logloss: 0.123799\tvalid_1's multi_logloss: 0.142997\n",
      "[500]\ttraining's multi_logloss: 0.118674\tvalid_1's multi_logloss: 0.141488\n",
      "Did not meet early stopping. Best iteration is:\n",
      "[500]\ttraining's multi_logloss: 0.118674\tvalid_1's multi_logloss: 0.141488\n",
      "| \u001b[0m16       \u001b[0m | \u001b[0m-0.1415  \u001b[0m | \u001b[0m0.7725   \u001b[0m | \u001b[0m530.8    \u001b[0m | \u001b[0m19.76    \u001b[0m | \u001b[0m199.8    \u001b[0m | \u001b[0m4.084    \u001b[0m | \u001b[0m47.21    \u001b[0m | \u001b[0m7.876    \u001b[0m | \u001b[0m1.644    \u001b[0m | \u001b[0m0.8533   \u001b[0m |\n",
      "Training until validation scores don't improve for 50 rounds\n",
      "[100]\ttraining's multi_logloss: 0.196843\tvalid_1's multi_logloss: 0.211934\n",
      "[200]\ttraining's multi_logloss: 0.106122\tvalid_1's multi_logloss: 0.136391\n"
     ]
    },
    {
     "ename": "KeyboardInterrupt",
     "evalue": "",
     "output_type": "error",
     "traceback": [
      "\u001b[1;31m---------------------------------------------------------------------------\u001b[0m",
      "\u001b[1;31mKeyboardInterrupt\u001b[0m                         Traceback (most recent call last)",
      "\u001b[1;32m~\\AppData\\Local\\Temp\\ipykernel_6540\\509510267.py\u001b[0m in \u001b[0;36m<module>\u001b[1;34m\u001b[0m\n\u001b[0;32m      1\u001b[0m lgbBO = BayesianOptimization(lgb_roc_eval, pbounds=bayesian_params, \n\u001b[0;32m      2\u001b[0m                              random_state = 2024)\n\u001b[1;32m----> 3\u001b[1;33m \u001b[0mlgbBO\u001b[0m\u001b[1;33m.\u001b[0m\u001b[0mmaximize\u001b[0m\u001b[1;33m(\u001b[0m\u001b[0minit_points\u001b[0m \u001b[1;33m=\u001b[0m \u001b[1;36m5\u001b[0m\u001b[1;33m,\u001b[0m \u001b[0mn_iter\u001b[0m \u001b[1;33m=\u001b[0m \u001b[1;36m25\u001b[0m\u001b[1;33m)\u001b[0m\u001b[1;33m\u001b[0m\u001b[1;33m\u001b[0m\u001b[0m\n\u001b[0m",
      "\u001b[1;32m~\\anaconda3\\lib\\site-packages\\bayes_opt\\bayesian_optimization.py\u001b[0m in \u001b[0;36mmaximize\u001b[1;34m(self, init_points, n_iter, acquisition_function, acq, kappa, kappa_decay, kappa_decay_delay, xi, **gp_params)\u001b[0m\n\u001b[0;32m    309\u001b[0m                 \u001b[0mx_probe\u001b[0m \u001b[1;33m=\u001b[0m \u001b[0mself\u001b[0m\u001b[1;33m.\u001b[0m\u001b[0msuggest\u001b[0m\u001b[1;33m(\u001b[0m\u001b[0mutil\u001b[0m\u001b[1;33m)\u001b[0m\u001b[1;33m\u001b[0m\u001b[1;33m\u001b[0m\u001b[0m\n\u001b[0;32m    310\u001b[0m                 \u001b[0miteration\u001b[0m \u001b[1;33m+=\u001b[0m \u001b[1;36m1\u001b[0m\u001b[1;33m\u001b[0m\u001b[1;33m\u001b[0m\u001b[0m\n\u001b[1;32m--> 311\u001b[1;33m             \u001b[0mself\u001b[0m\u001b[1;33m.\u001b[0m\u001b[0mprobe\u001b[0m\u001b[1;33m(\u001b[0m\u001b[0mx_probe\u001b[0m\u001b[1;33m,\u001b[0m \u001b[0mlazy\u001b[0m\u001b[1;33m=\u001b[0m\u001b[1;32mFalse\u001b[0m\u001b[1;33m)\u001b[0m\u001b[1;33m\u001b[0m\u001b[1;33m\u001b[0m\u001b[0m\n\u001b[0m\u001b[0;32m    312\u001b[0m \u001b[1;33m\u001b[0m\u001b[0m\n\u001b[0;32m    313\u001b[0m             \u001b[1;32mif\u001b[0m \u001b[0mself\u001b[0m\u001b[1;33m.\u001b[0m\u001b[0m_bounds_transformer\u001b[0m \u001b[1;32mand\u001b[0m \u001b[0miteration\u001b[0m \u001b[1;33m>\u001b[0m \u001b[1;36m0\u001b[0m\u001b[1;33m:\u001b[0m\u001b[1;33m\u001b[0m\u001b[1;33m\u001b[0m\u001b[0m\n",
      "\u001b[1;32m~\\anaconda3\\lib\\site-packages\\bayes_opt\\bayesian_optimization.py\u001b[0m in \u001b[0;36mprobe\u001b[1;34m(self, params, lazy)\u001b[0m\n\u001b[0;32m    206\u001b[0m             \u001b[0mself\u001b[0m\u001b[1;33m.\u001b[0m\u001b[0m_queue\u001b[0m\u001b[1;33m.\u001b[0m\u001b[0madd\u001b[0m\u001b[1;33m(\u001b[0m\u001b[0mparams\u001b[0m\u001b[1;33m)\u001b[0m\u001b[1;33m\u001b[0m\u001b[1;33m\u001b[0m\u001b[0m\n\u001b[0;32m    207\u001b[0m         \u001b[1;32melse\u001b[0m\u001b[1;33m:\u001b[0m\u001b[1;33m\u001b[0m\u001b[1;33m\u001b[0m\u001b[0m\n\u001b[1;32m--> 208\u001b[1;33m             \u001b[0mself\u001b[0m\u001b[1;33m.\u001b[0m\u001b[0m_space\u001b[0m\u001b[1;33m.\u001b[0m\u001b[0mprobe\u001b[0m\u001b[1;33m(\u001b[0m\u001b[0mparams\u001b[0m\u001b[1;33m)\u001b[0m\u001b[1;33m\u001b[0m\u001b[1;33m\u001b[0m\u001b[0m\n\u001b[0m\u001b[0;32m    209\u001b[0m             \u001b[0mself\u001b[0m\u001b[1;33m.\u001b[0m\u001b[0mdispatch\u001b[0m\u001b[1;33m(\u001b[0m\u001b[0mEvents\u001b[0m\u001b[1;33m.\u001b[0m\u001b[0mOPTIMIZATION_STEP\u001b[0m\u001b[1;33m)\u001b[0m\u001b[1;33m\u001b[0m\u001b[1;33m\u001b[0m\u001b[0m\n\u001b[0;32m    210\u001b[0m \u001b[1;33m\u001b[0m\u001b[0m\n",
      "\u001b[1;32m~\\anaconda3\\lib\\site-packages\\bayes_opt\\target_space.py\u001b[0m in \u001b[0;36mprobe\u001b[1;34m(self, params)\u001b[0m\n\u001b[0;32m    234\u001b[0m         \u001b[0mx\u001b[0m \u001b[1;33m=\u001b[0m \u001b[0mself\u001b[0m\u001b[1;33m.\u001b[0m\u001b[0m_as_array\u001b[0m\u001b[1;33m(\u001b[0m\u001b[0mparams\u001b[0m\u001b[1;33m)\u001b[0m\u001b[1;33m\u001b[0m\u001b[1;33m\u001b[0m\u001b[0m\n\u001b[0;32m    235\u001b[0m         \u001b[0mparams\u001b[0m \u001b[1;33m=\u001b[0m \u001b[0mdict\u001b[0m\u001b[1;33m(\u001b[0m\u001b[0mzip\u001b[0m\u001b[1;33m(\u001b[0m\u001b[0mself\u001b[0m\u001b[1;33m.\u001b[0m\u001b[0m_keys\u001b[0m\u001b[1;33m,\u001b[0m \u001b[0mx\u001b[0m\u001b[1;33m)\u001b[0m\u001b[1;33m)\u001b[0m\u001b[1;33m\u001b[0m\u001b[1;33m\u001b[0m\u001b[0m\n\u001b[1;32m--> 236\u001b[1;33m         \u001b[0mtarget\u001b[0m \u001b[1;33m=\u001b[0m \u001b[0mself\u001b[0m\u001b[1;33m.\u001b[0m\u001b[0mtarget_func\u001b[0m\u001b[1;33m(\u001b[0m\u001b[1;33m**\u001b[0m\u001b[0mparams\u001b[0m\u001b[1;33m)\u001b[0m\u001b[1;33m\u001b[0m\u001b[1;33m\u001b[0m\u001b[0m\n\u001b[0m\u001b[0;32m    237\u001b[0m \u001b[1;33m\u001b[0m\u001b[0m\n\u001b[0;32m    238\u001b[0m         \u001b[1;32mif\u001b[0m \u001b[0mself\u001b[0m\u001b[1;33m.\u001b[0m\u001b[0m_constraint\u001b[0m \u001b[1;32mis\u001b[0m \u001b[1;32mNone\u001b[0m\u001b[1;33m:\u001b[0m\u001b[1;33m\u001b[0m\u001b[1;33m\u001b[0m\u001b[0m\n",
      "\u001b[1;32m~\\AppData\\Local\\Temp\\ipykernel_6540\\1319784554.py\u001b[0m in \u001b[0;36mlgb_roc_eval\u001b[1;34m(max_depth, num_leaves, min_child_samples, min_child_weight, subsample, colsample_bytree, max_bin, reg_lambda, reg_alpha)\u001b[0m\n\u001b[0;32m     16\u001b[0m \u001b[1;33m\u001b[0m\u001b[0m\n\u001b[0;32m     17\u001b[0m     \u001b[0mlgb_model\u001b[0m \u001b[1;33m=\u001b[0m \u001b[0mLGBMClassifier\u001b[0m\u001b[1;33m(\u001b[0m\u001b[1;33m**\u001b[0m\u001b[0mparams\u001b[0m\u001b[1;33m,\u001b[0m \u001b[0mverbose\u001b[0m\u001b[1;33m=\u001b[0m\u001b[1;33m-\u001b[0m\u001b[1;36m1\u001b[0m\u001b[1;33m)\u001b[0m\u001b[1;33m\u001b[0m\u001b[1;33m\u001b[0m\u001b[0m\n\u001b[1;32m---> 18\u001b[1;33m     lgb_model.fit(xt, yt, eval_set=[(xt, yt), (xv, yv)], \n\u001b[0m\u001b[0;32m     19\u001b[0m                   \u001b[0meval_metric\u001b[0m\u001b[1;33m=\u001b[0m \u001b[1;34m'multi_logloss'\u001b[0m\u001b[1;33m,\u001b[0m\u001b[1;33m\u001b[0m\u001b[1;33m\u001b[0m\u001b[0m\n\u001b[0;32m     20\u001b[0m                   callbacks=[lgb.early_stopping(stopping_rounds=50),\n",
      "\u001b[1;32m~\\anaconda3\\lib\\site-packages\\lightgbm\\sklearn.py\u001b[0m in \u001b[0;36mfit\u001b[1;34m(self, X, y, sample_weight, init_score, eval_set, eval_names, eval_sample_weight, eval_class_weight, eval_init_score, eval_metric, feature_name, categorical_feature, callbacks, init_model)\u001b[0m\n\u001b[0;32m   1185\u001b[0m                     \u001b[0mvalid_sets\u001b[0m\u001b[1;33m.\u001b[0m\u001b[0mappend\u001b[0m\u001b[1;33m(\u001b[0m\u001b[1;33m(\u001b[0m\u001b[0mvalid_x\u001b[0m\u001b[1;33m,\u001b[0m \u001b[0mself\u001b[0m\u001b[1;33m.\u001b[0m\u001b[0m_le\u001b[0m\u001b[1;33m.\u001b[0m\u001b[0mtransform\u001b[0m\u001b[1;33m(\u001b[0m\u001b[0mvalid_y\u001b[0m\u001b[1;33m)\u001b[0m\u001b[1;33m)\u001b[0m\u001b[1;33m)\u001b[0m\u001b[1;33m\u001b[0m\u001b[1;33m\u001b[0m\u001b[0m\n\u001b[0;32m   1186\u001b[0m \u001b[1;33m\u001b[0m\u001b[0m\n\u001b[1;32m-> 1187\u001b[1;33m         super().fit(\n\u001b[0m\u001b[0;32m   1188\u001b[0m             \u001b[0mX\u001b[0m\u001b[1;33m,\u001b[0m\u001b[1;33m\u001b[0m\u001b[1;33m\u001b[0m\u001b[0m\n\u001b[0;32m   1189\u001b[0m             \u001b[0m_y\u001b[0m\u001b[1;33m,\u001b[0m\u001b[1;33m\u001b[0m\u001b[1;33m\u001b[0m\u001b[0m\n",
      "\u001b[1;32m~\\anaconda3\\lib\\site-packages\\lightgbm\\sklearn.py\u001b[0m in \u001b[0;36mfit\u001b[1;34m(self, X, y, sample_weight, init_score, group, eval_set, eval_names, eval_sample_weight, eval_class_weight, eval_init_score, eval_group, eval_metric, feature_name, categorical_feature, callbacks, init_model)\u001b[0m\n\u001b[0;32m    883\u001b[0m         \u001b[0mcallbacks\u001b[0m\u001b[1;33m.\u001b[0m\u001b[0mappend\u001b[0m\u001b[1;33m(\u001b[0m\u001b[0mrecord_evaluation\u001b[0m\u001b[1;33m(\u001b[0m\u001b[0mevals_result\u001b[0m\u001b[1;33m)\u001b[0m\u001b[1;33m)\u001b[0m\u001b[1;33m\u001b[0m\u001b[1;33m\u001b[0m\u001b[0m\n\u001b[0;32m    884\u001b[0m \u001b[1;33m\u001b[0m\u001b[0m\n\u001b[1;32m--> 885\u001b[1;33m         self._Booster = train(\n\u001b[0m\u001b[0;32m    886\u001b[0m             \u001b[0mparams\u001b[0m\u001b[1;33m=\u001b[0m\u001b[0mparams\u001b[0m\u001b[1;33m,\u001b[0m\u001b[1;33m\u001b[0m\u001b[1;33m\u001b[0m\u001b[0m\n\u001b[0;32m    887\u001b[0m             \u001b[0mtrain_set\u001b[0m\u001b[1;33m=\u001b[0m\u001b[0mtrain_set\u001b[0m\u001b[1;33m,\u001b[0m\u001b[1;33m\u001b[0m\u001b[1;33m\u001b[0m\u001b[0m\n",
      "\u001b[1;32m~\\anaconda3\\lib\\site-packages\\lightgbm\\engine.py\u001b[0m in \u001b[0;36mtrain\u001b[1;34m(params, train_set, num_boost_round, valid_sets, valid_names, feval, init_model, feature_name, categorical_feature, keep_training_booster, callbacks)\u001b[0m\n\u001b[0;32m    274\u001b[0m                                     evaluation_result_list=None))\n\u001b[0;32m    275\u001b[0m \u001b[1;33m\u001b[0m\u001b[0m\n\u001b[1;32m--> 276\u001b[1;33m         \u001b[0mbooster\u001b[0m\u001b[1;33m.\u001b[0m\u001b[0mupdate\u001b[0m\u001b[1;33m(\u001b[0m\u001b[0mfobj\u001b[0m\u001b[1;33m=\u001b[0m\u001b[0mfobj\u001b[0m\u001b[1;33m)\u001b[0m\u001b[1;33m\u001b[0m\u001b[1;33m\u001b[0m\u001b[0m\n\u001b[0m\u001b[0;32m    277\u001b[0m \u001b[1;33m\u001b[0m\u001b[0m\n\u001b[0;32m    278\u001b[0m         \u001b[0mevaluation_result_list\u001b[0m\u001b[1;33m:\u001b[0m \u001b[0mList\u001b[0m\u001b[1;33m[\u001b[0m\u001b[0m_LGBM_BoosterEvalMethodResultType\u001b[0m\u001b[1;33m]\u001b[0m \u001b[1;33m=\u001b[0m \u001b[1;33m[\u001b[0m\u001b[1;33m]\u001b[0m\u001b[1;33m\u001b[0m\u001b[1;33m\u001b[0m\u001b[0m\n",
      "\u001b[1;32m~\\anaconda3\\lib\\site-packages\\lightgbm\\basic.py\u001b[0m in \u001b[0;36mupdate\u001b[1;34m(self, train_set, fobj)\u001b[0m\n\u001b[0;32m   3889\u001b[0m             \u001b[1;32mif\u001b[0m \u001b[0mself\u001b[0m\u001b[1;33m.\u001b[0m\u001b[0m__set_objective_to_none\u001b[0m\u001b[1;33m:\u001b[0m\u001b[1;33m\u001b[0m\u001b[1;33m\u001b[0m\u001b[0m\n\u001b[0;32m   3890\u001b[0m                 \u001b[1;32mraise\u001b[0m \u001b[0mLightGBMError\u001b[0m\u001b[1;33m(\u001b[0m\u001b[1;34m'Cannot update due to null objective function.'\u001b[0m\u001b[1;33m)\u001b[0m\u001b[1;33m\u001b[0m\u001b[1;33m\u001b[0m\u001b[0m\n\u001b[1;32m-> 3891\u001b[1;33m             _safe_call(_LIB.LGBM_BoosterUpdateOneIter(\n\u001b[0m\u001b[0;32m   3892\u001b[0m                 \u001b[0mself\u001b[0m\u001b[1;33m.\u001b[0m\u001b[0m_handle\u001b[0m\u001b[1;33m,\u001b[0m\u001b[1;33m\u001b[0m\u001b[1;33m\u001b[0m\u001b[0m\n\u001b[0;32m   3893\u001b[0m                 ctypes.byref(is_finished)))\n",
      "\u001b[1;31mKeyboardInterrupt\u001b[0m: "
     ]
    }
   ],
   "source": [
    "lgbBO = BayesianOptimization(lgb_roc_eval, pbounds=bayesian_params, \n",
    "                             random_state = 2024)\n",
    "lgbBO.maximize(init_points = 5, n_iter = 25)"
   ]
  },
  {
   "cell_type": "code",
   "execution_count": null,
   "id": "48b4c074-6c97-4024-8539-7ef6bc29fd6a",
   "metadata": {},
   "outputs": [],
   "source": [
    "lgbBO.res"
   ]
  },
  {
   "cell_type": "code",
   "execution_count": 47,
   "id": "f72c6e64-cf97-4eb1-8a0f-7e0530b3b7e6",
   "metadata": {},
   "outputs": [
    {
     "name": "stdout",
     "output_type": "stream",
     "text": [
      "[-0.17447816157644666, -0.1857556036890109, -0.1525750793410783, -0.16453898172965917, -0.16909034007103807, -0.15646009698703978, -0.14403508941271917, -0.16021842177857162, -0.1619839376301834, -0.18302181057293265, -0.13548622915836142, -0.14127050299416377, -0.1381387403266466, -0.142895862545821, -0.14397318188362335, -0.14167264569421537, -0.13630048733935896, -0.13901599630013683, -0.18980931788284627, -0.1460010116071159, -0.1422116106400921, -0.13831879005249081, -0.13570090542815177, -0.1439938319260037, -0.14250032007612712, -0.13324421540680514, -0.13143855076855795, -0.18552930662486766, -0.14239018148705412, -0.14572532118161935]\n",
      "maximum target index: 26\n"
     ]
    }
   ],
   "source": [
    "# dictionary에 있는 target값을 모두 추출\n",
    "target_list = []\n",
    "for result in lgbBO.res:\n",
    "    target = result['target']\n",
    "    target_list.append(target)\n",
    "print(target_list)\n",
    "# 가장 큰 target 값을 가지는 순번(index)를 추출\n",
    "print('maximum target index:', np.argmax(np.array(target_list)))"
   ]
  },
  {
   "cell_type": "code",
   "execution_count": 48,
   "id": "63746865-1484-4eb7-898d-4cd3207f6bfc",
   "metadata": {},
   "outputs": [
    {
     "name": "stdout",
     "output_type": "stream",
     "text": [
      "{'target': -0.13143855076855795, 'params': {'colsample_bytree': 1.0, 'max_bin': 640.0, 'max_depth': 20.0, 'min_child_samples': 17.575095690198545, 'min_child_weight': 6.3500102220793835, 'num_leaves': 57.00123623230496, 'reg_alpha': 0.01, 'reg_lambda': 0.001, 'subsample': 0.5}}\n"
     ]
    }
   ],
   "source": [
    "# 가장 큰 target값을 가지는 index값을 기준으로 res에서 해당 parameter 추출. \n",
    "max_dict = lgbBO.res[np.argmax(np.array(target_list))]\n",
    "print(max_dict)"
   ]
  },
  {
   "cell_type": "markdown",
   "id": "c3d3b828-a6a3-456b-9c23-513cd5f65cb6",
   "metadata": {
    "tags": []
   },
   "source": [
    "## ● OOF"
   ]
  },
  {
   "cell_type": "code",
   "execution_count": 27,
   "id": "6ed83f32-08c6-47c2-95e0-b9ca485ba39a",
   "metadata": {
    "tags": []
   },
   "outputs": [],
   "source": [
    "from sklearn.model_selection import KFold\n",
    "\n",
    "def train_apps_all_with_oof(df, nfolds=5):\n",
    "    train = df[~df['대출등급'].isnull()]\n",
    "    test = df[df['대출등급'].isnull()].drop('대출등급',axis=1)\n",
    "    \n",
    "    X = train.drop(['ID','대출등급'], axis=1)\n",
    "    y = train['대출등급']\n",
    "\n",
    "    folds = KFold(n_splits=nfolds, shuffle=True, random_state=2024)\n",
    "    \n",
    "    oof_preds = np.zeros((train.shape[0], 7))  \n",
    "    test_preds = np.zeros((test.shape[0], 7))\n",
    "    \n",
    "    clf = LGBMClassifier(\n",
    "                n_estimators=2000,\n",
    "                learning_rate=0.01,\n",
    "                colsample_bytree = 0.5,\n",
    "                max_bin= 500, \n",
    "                max_depth= 10, \n",
    "                min_child_samples= 105, \n",
    "                min_child_weight= 1, \n",
    "                num_leaves= 64,\n",
    "                reg_alpha= 0.01, \n",
    "                reg_lambda= 0.001, \n",
    "                subsample= 1.0,\n",
    "                verbose= -1,\n",
    "                )\n",
    "\n",
    "    for fold_idx, (train_idx, valid_idx) in enumerate(folds.split(X)):\n",
    "        print('##### iteration ', fold_idx, ' 시작')\n",
    "        train_x  = X.iloc[train_idx, :]\n",
    "        train_y = y.iloc[train_idx]\n",
    "        valid_x = X.iloc[valid_idx, :]\n",
    "        valid_y = y.iloc[valid_idx]\n",
    "        \n",
    "        clf.fit(train_x, train_y, eval_set=[(train_x, train_y), (valid_x, valid_y)], \n",
    "                eval_metric= 'multi_logloss', \n",
    "                callbacks = [lgb.early_stopping(stopping_rounds=200), \n",
    "                             lgb.log_evaluation(period=100)])\n",
    "        oof_preds[valid_idx] = clf.predict_proba(valid_x, num_iteration=clf.best_iteration_)       \n",
    "        test_preds += clf.predict_proba(test.drop('ID', axis=1), num_iteration=clf.best_iteration_)/folds.n_splits\n",
    "        \n",
    "    return clf, test_preds"
   ]
  },
  {
   "cell_type": "code",
   "execution_count": 28,
   "id": "cf27b78c-ddee-44ef-a47d-e8d9a11d5f19",
   "metadata": {
    "tags": []
   },
   "outputs": [
    {
     "name": "stdout",
     "output_type": "stream",
     "text": [
      "##### iteration  0  시작\n",
      "Training until validation scores don't improve for 200 rounds\n",
      "[100]\ttraining's multi_logloss: 0.441203\tvalid_1's multi_logloss: 0.448342\n",
      "[200]\ttraining's multi_logloss: 0.219191\tvalid_1's multi_logloss: 0.231331\n",
      "[300]\ttraining's multi_logloss: 0.147203\tvalid_1's multi_logloss: 0.164709\n",
      "[400]\ttraining's multi_logloss: 0.117941\tvalid_1's multi_logloss: 0.141833\n",
      "[500]\ttraining's multi_logloss: 0.103824\tvalid_1's multi_logloss: 0.135764\n",
      "[600]\ttraining's multi_logloss: 0.0934921\tvalid_1's multi_logloss: 0.133115\n",
      "[700]\ttraining's multi_logloss: 0.0852221\tvalid_1's multi_logloss: 0.131937\n",
      "[800]\ttraining's multi_logloss: 0.078345\tvalid_1's multi_logloss: 0.131281\n",
      "[900]\ttraining's multi_logloss: 0.0724163\tvalid_1's multi_logloss: 0.130918\n",
      "[1000]\ttraining's multi_logloss: 0.0670982\tvalid_1's multi_logloss: 0.130572\n",
      "[1100]\ttraining's multi_logloss: 0.0624589\tvalid_1's multi_logloss: 0.130701\n",
      "[1200]\ttraining's multi_logloss: 0.0582576\tvalid_1's multi_logloss: 0.130967\n",
      "Early stopping, best iteration is:\n",
      "[1011]\ttraining's multi_logloss: 0.0665663\tvalid_1's multi_logloss: 0.130568\n",
      "##### iteration  1  시작\n",
      "Training until validation scores don't improve for 200 rounds\n",
      "[100]\ttraining's multi_logloss: 0.438536\tvalid_1's multi_logloss: 0.444316\n",
      "[200]\ttraining's multi_logloss: 0.218515\tvalid_1's multi_logloss: 0.228088\n",
      "[300]\ttraining's multi_logloss: 0.147327\tvalid_1's multi_logloss: 0.161811\n",
      "[400]\ttraining's multi_logloss: 0.118128\tvalid_1's multi_logloss: 0.138976\n",
      "[500]\ttraining's multi_logloss: 0.103824\tvalid_1's multi_logloss: 0.132291\n",
      "[600]\ttraining's multi_logloss: 0.0937376\tvalid_1's multi_logloss: 0.129716\n",
      "[700]\ttraining's multi_logloss: 0.0856335\tvalid_1's multi_logloss: 0.128243\n",
      "[800]\ttraining's multi_logloss: 0.0787718\tvalid_1's multi_logloss: 0.127151\n",
      "[900]\ttraining's multi_logloss: 0.0729055\tvalid_1's multi_logloss: 0.12641\n",
      "[1000]\ttraining's multi_logloss: 0.0676442\tvalid_1's multi_logloss: 0.125907\n",
      "[1100]\ttraining's multi_logloss: 0.0630815\tvalid_1's multi_logloss: 0.12561\n",
      "[1200]\ttraining's multi_logloss: 0.0589716\tvalid_1's multi_logloss: 0.125575\n",
      "[1300]\ttraining's multi_logloss: 0.0550446\tvalid_1's multi_logloss: 0.125509\n",
      "[1400]\ttraining's multi_logloss: 0.0514901\tvalid_1's multi_logloss: 0.125708\n",
      "Early stopping, best iteration is:\n",
      "[1245]\ttraining's multi_logloss: 0.0571042\tvalid_1's multi_logloss: 0.125463\n",
      "##### iteration  2  시작\n",
      "Training until validation scores don't improve for 200 rounds\n",
      "[100]\ttraining's multi_logloss: 0.438723\tvalid_1's multi_logloss: 0.449536\n",
      "[200]\ttraining's multi_logloss: 0.21827\tvalid_1's multi_logloss: 0.234614\n",
      "[300]\ttraining's multi_logloss: 0.146964\tvalid_1's multi_logloss: 0.168597\n",
      "[400]\ttraining's multi_logloss: 0.117796\tvalid_1's multi_logloss: 0.146211\n",
      "[500]\ttraining's multi_logloss: 0.10324\tvalid_1's multi_logloss: 0.139687\n",
      "[600]\ttraining's multi_logloss: 0.0931827\tvalid_1's multi_logloss: 0.137393\n",
      "[700]\ttraining's multi_logloss: 0.0851828\tvalid_1's multi_logloss: 0.136032\n",
      "[800]\ttraining's multi_logloss: 0.0784449\tvalid_1's multi_logloss: 0.135505\n",
      "[900]\ttraining's multi_logloss: 0.0726582\tvalid_1's multi_logloss: 0.135082\n",
      "[1000]\ttraining's multi_logloss: 0.0673857\tvalid_1's multi_logloss: 0.13483\n",
      "[1100]\ttraining's multi_logloss: 0.0627481\tvalid_1's multi_logloss: 0.134816\n",
      "[1200]\ttraining's multi_logloss: 0.0587554\tvalid_1's multi_logloss: 0.134891\n",
      "Early stopping, best iteration is:\n",
      "[1078]\ttraining's multi_logloss: 0.0637122\tvalid_1's multi_logloss: 0.134766\n",
      "##### iteration  3  시작\n",
      "Training until validation scores don't improve for 200 rounds\n",
      "[100]\ttraining's multi_logloss: 0.439558\tvalid_1's multi_logloss: 0.450387\n",
      "[200]\ttraining's multi_logloss: 0.218784\tvalid_1's multi_logloss: 0.233588\n",
      "[300]\ttraining's multi_logloss: 0.14702\tvalid_1's multi_logloss: 0.166877\n",
      "[400]\ttraining's multi_logloss: 0.118045\tvalid_1's multi_logloss: 0.144318\n",
      "[500]\ttraining's multi_logloss: 0.103606\tvalid_1's multi_logloss: 0.137675\n",
      "[600]\ttraining's multi_logloss: 0.0933595\tvalid_1's multi_logloss: 0.134943\n",
      "[700]\ttraining's multi_logloss: 0.0852565\tvalid_1's multi_logloss: 0.133462\n",
      "[800]\ttraining's multi_logloss: 0.0785072\tvalid_1's multi_logloss: 0.132532\n",
      "[900]\ttraining's multi_logloss: 0.0727181\tvalid_1's multi_logloss: 0.131807\n",
      "[1000]\ttraining's multi_logloss: 0.0675572\tvalid_1's multi_logloss: 0.131313\n",
      "[1100]\ttraining's multi_logloss: 0.062961\tvalid_1's multi_logloss: 0.131097\n",
      "[1200]\ttraining's multi_logloss: 0.0588784\tvalid_1's multi_logloss: 0.130959\n",
      "[1300]\ttraining's multi_logloss: 0.0550585\tvalid_1's multi_logloss: 0.131061\n",
      "[1400]\ttraining's multi_logloss: 0.0515289\tvalid_1's multi_logloss: 0.131261\n",
      "Early stopping, best iteration is:\n",
      "[1200]\ttraining's multi_logloss: 0.0588784\tvalid_1's multi_logloss: 0.130959\n",
      "##### iteration  4  시작\n",
      "Training until validation scores don't improve for 200 rounds\n",
      "[100]\ttraining's multi_logloss: 0.438736\tvalid_1's multi_logloss: 0.448781\n",
      "[200]\ttraining's multi_logloss: 0.217761\tvalid_1's multi_logloss: 0.232561\n",
      "[300]\ttraining's multi_logloss: 0.14679\tvalid_1's multi_logloss: 0.166494\n",
      "[400]\ttraining's multi_logloss: 0.117191\tvalid_1's multi_logloss: 0.142649\n",
      "[500]\ttraining's multi_logloss: 0.102869\tvalid_1's multi_logloss: 0.136004\n",
      "[600]\ttraining's multi_logloss: 0.0930001\tvalid_1's multi_logloss: 0.133798\n",
      "[700]\ttraining's multi_logloss: 0.0849373\tvalid_1's multi_logloss: 0.132364\n",
      "[800]\ttraining's multi_logloss: 0.077994\tvalid_1's multi_logloss: 0.131375\n",
      "[900]\ttraining's multi_logloss: 0.0720721\tvalid_1's multi_logloss: 0.13091\n",
      "[1000]\ttraining's multi_logloss: 0.0670065\tvalid_1's multi_logloss: 0.13045\n",
      "[1100]\ttraining's multi_logloss: 0.0624223\tvalid_1's multi_logloss: 0.130584\n",
      "Early stopping, best iteration is:\n",
      "[993]\ttraining's multi_logloss: 0.0673596\tvalid_1's multi_logloss: 0.130424\n"
     ]
    }
   ],
   "source": [
    "clf, test_preds = train_apps_all_with_oof(df)"
   ]
  },
  {
   "cell_type": "code",
   "execution_count": 29,
   "id": "a487d8c7-8642-4c62-8c24-9df5be6a2901",
   "metadata": {},
   "outputs": [
    {
     "data": {
      "text/plain": [
       "array([[3.87214673e-04, 9.98373617e-01, 1.08537502e-03, ...,\n",
       "        2.41813110e-05, 3.76334375e-06, 6.50367211e-07],\n",
       "       [2.24821564e-01, 4.72611492e-01, 2.10682362e-01, ...,\n",
       "        1.44363594e-02, 2.10341918e-03, 2.18745927e-05],\n",
       "       [9.97398890e-01, 2.19610266e-03, 2.67402113e-04, ...,\n",
       "        2.12809745e-05, 1.41734252e-06, 1.10167148e-06],\n",
       "       ...,\n",
       "       [1.87863068e-04, 5.72454208e-04, 1.09408847e-03, ...,\n",
       "        6.22011194e-04, 9.28325933e-06, 7.96426009e-06],\n",
       "       [7.44048607e-05, 1.49560063e-03, 9.90457399e-01, ...,\n",
       "        2.99120059e-04, 3.22587449e-05, 7.29930183e-06],\n",
       "       [9.74774677e-01, 2.30475271e-02, 5.61740587e-04, ...,\n",
       "        1.32518623e-04, 1.82664700e-05, 3.96002261e-06]])"
      ]
     },
     "execution_count": 29,
     "metadata": {},
     "output_type": "execute_result"
    }
   ],
   "source": [
    "test_preds"
   ]
  },
  {
   "cell_type": "code",
   "execution_count": 32,
   "id": "14038023-6b5e-410d-b0b8-5702922a7a3a",
   "metadata": {},
   "outputs": [],
   "source": [
    "label_mapping = {0:'A', 1:'B', 2:'C', 3:'D', 4:'E', 5:'F', 6:'G'}\n",
    "pred = []\n",
    "\n",
    "for i in range(test_preds.shape[0]):\n",
    "    label_idx = np.argmax(test_preds[i])\n",
    "    label = label_mapping[label_idx]\n",
    "    pred.append(label)"
   ]
  },
  {
   "cell_type": "code",
   "execution_count": 35,
   "id": "70525135-2c69-4ddb-863c-a7d632cc603d",
   "metadata": {},
   "outputs": [
    {
     "data": {
      "text/plain": [
       "64197"
      ]
     },
     "execution_count": 35,
     "metadata": {},
     "output_type": "execute_result"
    }
   ],
   "source": [
    "len(pred)"
   ]
  },
  {
   "cell_type": "code",
   "execution_count": 86,
   "id": "0df84abd-9fa6-4444-aabd-f2cfede30dc0",
   "metadata": {},
   "outputs": [
    {
     "ename": "ValueError",
     "evalue": "Number of features of the model must match the input. Model n_features_ is 21 and input n_features is 22",
     "output_type": "error",
     "traceback": [
      "\u001b[1;31m---------------------------------------------------------------------------\u001b[0m",
      "\u001b[1;31mValueError\u001b[0m                                Traceback (most recent call last)",
      "\u001b[1;32m~\\AppData\\Local\\Temp\\ipykernel_6540\\3250074265.py\u001b[0m in \u001b[0;36m<module>\u001b[1;34m\u001b[0m\n\u001b[1;32m----> 1\u001b[1;33m \u001b[0mpred\u001b[0m \u001b[1;33m=\u001b[0m \u001b[0mmodel\u001b[0m\u001b[1;33m.\u001b[0m\u001b[0mpredict_proba\u001b[0m\u001b[1;33m(\u001b[0m\u001b[0mtest\u001b[0m\u001b[1;33m)\u001b[0m\u001b[1;33m\u001b[0m\u001b[1;33m\u001b[0m\u001b[0m\n\u001b[0m",
      "\u001b[1;32m~\\anaconda3\\lib\\site-packages\\lightgbm\\sklearn.py\u001b[0m in \u001b[0;36mpredict_proba\u001b[1;34m(self, X, raw_score, start_iteration, num_iteration, pred_leaf, pred_contrib, validate_features, **kwargs)\u001b[0m\n\u001b[0;32m   1251\u001b[0m     ):\n\u001b[0;32m   1252\u001b[0m         \u001b[1;34m\"\"\"Docstring is set after definition, using a template.\"\"\"\u001b[0m\u001b[1;33m\u001b[0m\u001b[1;33m\u001b[0m\u001b[0m\n\u001b[1;32m-> 1253\u001b[1;33m         result = super().predict(\n\u001b[0m\u001b[0;32m   1254\u001b[0m             \u001b[0mX\u001b[0m\u001b[1;33m=\u001b[0m\u001b[0mX\u001b[0m\u001b[1;33m,\u001b[0m\u001b[1;33m\u001b[0m\u001b[1;33m\u001b[0m\u001b[0m\n\u001b[0;32m   1255\u001b[0m             \u001b[0mraw_score\u001b[0m\u001b[1;33m=\u001b[0m\u001b[0mraw_score\u001b[0m\u001b[1;33m,\u001b[0m\u001b[1;33m\u001b[0m\u001b[1;33m\u001b[0m\u001b[0m\n",
      "\u001b[1;32m~\\anaconda3\\lib\\site-packages\\lightgbm\\sklearn.py\u001b[0m in \u001b[0;36mpredict\u001b[1;34m(self, X, raw_score, start_iteration, num_iteration, pred_leaf, pred_contrib, validate_features, **kwargs)\u001b[0m\n\u001b[0;32m    935\u001b[0m         \u001b[0mn_features\u001b[0m \u001b[1;33m=\u001b[0m \u001b[0mX\u001b[0m\u001b[1;33m.\u001b[0m\u001b[0mshape\u001b[0m\u001b[1;33m[\u001b[0m\u001b[1;36m1\u001b[0m\u001b[1;33m]\u001b[0m\u001b[1;33m\u001b[0m\u001b[1;33m\u001b[0m\u001b[0m\n\u001b[0;32m    936\u001b[0m         \u001b[1;32mif\u001b[0m \u001b[0mself\u001b[0m\u001b[1;33m.\u001b[0m\u001b[0m_n_features\u001b[0m \u001b[1;33m!=\u001b[0m \u001b[0mn_features\u001b[0m\u001b[1;33m:\u001b[0m\u001b[1;33m\u001b[0m\u001b[1;33m\u001b[0m\u001b[0m\n\u001b[1;32m--> 937\u001b[1;33m             raise ValueError(\"Number of features of the model must \"\n\u001b[0m\u001b[0;32m    938\u001b[0m                              \u001b[1;34mf\"match the input. Model n_features_ is {self._n_features} and \"\u001b[0m\u001b[1;33m\u001b[0m\u001b[1;33m\u001b[0m\u001b[0m\n\u001b[0;32m    939\u001b[0m                              f\"input n_features is {n_features}\")\n",
      "\u001b[1;31mValueError\u001b[0m: Number of features of the model must match the input. Model n_features_ is 21 and input n_features is 22"
     ]
    }
   ],
   "source": [
    "pred = model.predict_proba(test)"
   ]
  },
  {
   "cell_type": "code",
   "execution_count": 36,
   "id": "8058f1c9-16b2-4f9c-93cd-e9d71aa1c1fe",
   "metadata": {},
   "outputs": [],
   "source": [
    "id_list = test['ID']\n",
    "dic = {'ID' : id_list,\n",
    "      '대출등급' : pred}\n",
    "result = pd.DataFrame(dic)"
   ]
  },
  {
   "cell_type": "code",
   "execution_count": 38,
   "id": "1e57c0e0-e2df-4fd6-a545-f066d0366931",
   "metadata": {},
   "outputs": [],
   "source": [
    "result.to_csv('submit05.csv',index=False)"
   ]
  },
  {
   "cell_type": "code",
   "execution_count": null,
   "id": "8a93fb58-1f27-4bdb-a7d5-b0b394208a58",
   "metadata": {},
   "outputs": [],
   "source": []
  }
 ],
 "metadata": {
  "kernelspec": {
   "display_name": "Python 3 (ipykernel)",
   "language": "python",
   "name": "python3"
  },
  "language_info": {
   "codemirror_mode": {
    "name": "ipython",
    "version": 3
   },
   "file_extension": ".py",
   "mimetype": "text/x-python",
   "name": "python",
   "nbconvert_exporter": "python",
   "pygments_lexer": "ipython3",
   "version": "3.9.13"
  }
 },
 "nbformat": 4,
 "nbformat_minor": 5
}
