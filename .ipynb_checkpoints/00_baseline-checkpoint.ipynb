{
 "cells": [
  {
   "cell_type": "markdown",
   "id": "7d9adf12-45a3-40ad-b2c5-91e2287a9286",
   "metadata": {},
   "source": [
    "# 🌺 고객 대출등급 분류 해커톤\n",
    "Evaluation Metric : Macro F1<br>\n",
    "Public Score : 전체 테스트 데이터 중 30%<br>\n",
    "Dead Line : 24-02-05 AM 10:00"
   ]
  },
  {
   "cell_type": "code",
   "execution_count": 1,
   "id": "3137ddf4-6689-4309-9f01-12d196535cbb",
   "metadata": {},
   "outputs": [],
   "source": [
    "import pandas as pd\n",
    "import numpy as np"
   ]
  },
  {
   "cell_type": "code",
   "execution_count": 2,
   "id": "096bb065-1a03-4f48-8a68-b7e9b975e431",
   "metadata": {},
   "outputs": [],
   "source": [
    "train = pd.read_csv('data/train.csv')\n",
    "test = pd.read_csv('data/test.csv')\n",
    "sample = pd.read_csv('data/sample_submission.csv')\n"
   ]
  },
  {
   "cell_type": "markdown",
   "id": "69ad8cce-1b94-4262-85cd-cf93415a66fd",
   "metadata": {
    "jp-MarkdownHeadingCollapsed": true,
    "tags": []
   },
   "source": [
    "## 1) 데이터 탐색"
   ]
  },
  {
   "cell_type": "code",
   "execution_count": 17,
   "id": "96eba4df-d2c1-4c41-88e4-4dd86eda908f",
   "metadata": {},
   "outputs": [
    {
     "data": {
      "text/plain": [
       "((96294, 15), (64197, 14))"
      ]
     },
     "execution_count": 17,
     "metadata": {},
     "output_type": "execute_result"
    }
   ],
   "source": [
    "train.shape, test.shape"
   ]
  },
  {
   "cell_type": "code",
   "execution_count": 3,
   "id": "f157b7a2-db15-47ee-b4bd-121c328f82b3",
   "metadata": {},
   "outputs": [
    {
     "name": "stdout",
     "output_type": "stream",
     "text": [
      "<class 'pandas.core.frame.DataFrame'>\n",
      "RangeIndex: 96294 entries, 0 to 96293\n",
      "Data columns (total 15 columns):\n",
      " #   Column        Non-Null Count  Dtype  \n",
      "---  ------        --------------  -----  \n",
      " 0   ID            96294 non-null  object \n",
      " 1   대출금액          96294 non-null  int64  \n",
      " 2   대출기간          96294 non-null  object \n",
      " 3   근로기간          96294 non-null  object \n",
      " 4   주택소유상태        96294 non-null  object \n",
      " 5   연간소득          96294 non-null  int64  \n",
      " 6   부채_대비_소득_비율   96294 non-null  float64\n",
      " 7   총계좌수          96294 non-null  int64  \n",
      " 8   대출목적          96294 non-null  object \n",
      " 9   최근_2년간_연체_횟수  96294 non-null  int64  \n",
      " 10  총상환원금         96294 non-null  int64  \n",
      " 11  총상환이자         96294 non-null  float64\n",
      " 12  총연체금액         96294 non-null  float64\n",
      " 13  연체계좌수         96294 non-null  float64\n",
      " 14  대출등급          96294 non-null  object \n",
      "dtypes: float64(4), int64(5), object(6)\n",
      "memory usage: 11.0+ MB\n"
     ]
    }
   ],
   "source": [
    "train.info()"
   ]
  },
  {
   "cell_type": "code",
   "execution_count": 49,
   "id": "c41c4612-9920-4f12-9ab3-fe826fd3b432",
   "metadata": {},
   "outputs": [
    {
     "data": {
      "text/html": [
       "<div>\n",
       "<style scoped>\n",
       "    .dataframe tbody tr th:only-of-type {\n",
       "        vertical-align: middle;\n",
       "    }\n",
       "\n",
       "    .dataframe tbody tr th {\n",
       "        vertical-align: top;\n",
       "    }\n",
       "\n",
       "    .dataframe thead th {\n",
       "        text-align: right;\n",
       "    }\n",
       "</style>\n",
       "<table border=\"1\" class=\"dataframe\">\n",
       "  <thead>\n",
       "    <tr style=\"text-align: right;\">\n",
       "      <th></th>\n",
       "      <th>ID</th>\n",
       "      <th>대출금액</th>\n",
       "      <th>대출기간</th>\n",
       "      <th>근로기간</th>\n",
       "      <th>주택소유상태</th>\n",
       "      <th>연간소득</th>\n",
       "      <th>부채_대비_소득_비율</th>\n",
       "      <th>총계좌수</th>\n",
       "      <th>대출목적</th>\n",
       "      <th>최근_2년간_연체_횟수</th>\n",
       "      <th>총상환원금</th>\n",
       "      <th>총상환이자</th>\n",
       "      <th>총연체금액</th>\n",
       "      <th>연체계좌수</th>\n",
       "      <th>대출등급</th>\n",
       "    </tr>\n",
       "  </thead>\n",
       "  <tbody>\n",
       "    <tr>\n",
       "      <th>0</th>\n",
       "      <td>TRAIN_00000</td>\n",
       "      <td>12480000</td>\n",
       "      <td>36 months</td>\n",
       "      <td>6 years</td>\n",
       "      <td>RENT</td>\n",
       "      <td>72000000</td>\n",
       "      <td>18.90</td>\n",
       "      <td>15</td>\n",
       "      <td>부채 통합</td>\n",
       "      <td>0</td>\n",
       "      <td>0</td>\n",
       "      <td>0.0</td>\n",
       "      <td>0.0</td>\n",
       "      <td>0.0</td>\n",
       "      <td>C</td>\n",
       "    </tr>\n",
       "    <tr>\n",
       "      <th>1</th>\n",
       "      <td>TRAIN_00001</td>\n",
       "      <td>14400000</td>\n",
       "      <td>60 months</td>\n",
       "      <td>10+ years</td>\n",
       "      <td>MORTGAGE</td>\n",
       "      <td>130800000</td>\n",
       "      <td>22.33</td>\n",
       "      <td>21</td>\n",
       "      <td>주택 개선</td>\n",
       "      <td>0</td>\n",
       "      <td>373572</td>\n",
       "      <td>234060.0</td>\n",
       "      <td>0.0</td>\n",
       "      <td>0.0</td>\n",
       "      <td>B</td>\n",
       "    </tr>\n",
       "    <tr>\n",
       "      <th>2</th>\n",
       "      <td>TRAIN_00002</td>\n",
       "      <td>12000000</td>\n",
       "      <td>36 months</td>\n",
       "      <td>5 years</td>\n",
       "      <td>MORTGAGE</td>\n",
       "      <td>96000000</td>\n",
       "      <td>8.60</td>\n",
       "      <td>14</td>\n",
       "      <td>부채 통합</td>\n",
       "      <td>0</td>\n",
       "      <td>928644</td>\n",
       "      <td>151944.0</td>\n",
       "      <td>0.0</td>\n",
       "      <td>0.0</td>\n",
       "      <td>A</td>\n",
       "    </tr>\n",
       "    <tr>\n",
       "      <th>3</th>\n",
       "      <td>TRAIN_00003</td>\n",
       "      <td>14400000</td>\n",
       "      <td>36 months</td>\n",
       "      <td>8 years</td>\n",
       "      <td>MORTGAGE</td>\n",
       "      <td>132000000</td>\n",
       "      <td>15.09</td>\n",
       "      <td>15</td>\n",
       "      <td>부채 통합</td>\n",
       "      <td>0</td>\n",
       "      <td>325824</td>\n",
       "      <td>153108.0</td>\n",
       "      <td>0.0</td>\n",
       "      <td>0.0</td>\n",
       "      <td>C</td>\n",
       "    </tr>\n",
       "    <tr>\n",
       "      <th>4</th>\n",
       "      <td>TRAIN_00004</td>\n",
       "      <td>18000000</td>\n",
       "      <td>60 months</td>\n",
       "      <td>Unknown</td>\n",
       "      <td>RENT</td>\n",
       "      <td>71736000</td>\n",
       "      <td>25.39</td>\n",
       "      <td>19</td>\n",
       "      <td>주요 구매</td>\n",
       "      <td>0</td>\n",
       "      <td>228540</td>\n",
       "      <td>148956.0</td>\n",
       "      <td>0.0</td>\n",
       "      <td>0.0</td>\n",
       "      <td>B</td>\n",
       "    </tr>\n",
       "  </tbody>\n",
       "</table>\n",
       "</div>"
      ],
      "text/plain": [
       "            ID      대출금액        대출기간       근로기간    주택소유상태       연간소득  \\\n",
       "0  TRAIN_00000  12480000   36 months    6 years      RENT   72000000   \n",
       "1  TRAIN_00001  14400000   60 months  10+ years  MORTGAGE  130800000   \n",
       "2  TRAIN_00002  12000000   36 months    5 years  MORTGAGE   96000000   \n",
       "3  TRAIN_00003  14400000   36 months    8 years  MORTGAGE  132000000   \n",
       "4  TRAIN_00004  18000000   60 months    Unknown      RENT   71736000   \n",
       "\n",
       "   부채_대비_소득_비율  총계좌수   대출목적  최근_2년간_연체_횟수   총상환원금     총상환이자  총연체금액  연체계좌수 대출등급  \n",
       "0        18.90    15  부채 통합             0       0       0.0    0.0    0.0    C  \n",
       "1        22.33    21  주택 개선             0  373572  234060.0    0.0    0.0    B  \n",
       "2         8.60    14  부채 통합             0  928644  151944.0    0.0    0.0    A  \n",
       "3        15.09    15  부채 통합             0  325824  153108.0    0.0    0.0    C  \n",
       "4        25.39    19  주요 구매             0  228540  148956.0    0.0    0.0    B  "
      ]
     },
     "execution_count": 49,
     "metadata": {},
     "output_type": "execute_result"
    }
   ],
   "source": [
    "train.head()"
   ]
  },
  {
   "cell_type": "code",
   "execution_count": 4,
   "id": "36ef4a28-a130-4e24-adac-8eede262576d",
   "metadata": {},
   "outputs": [],
   "source": [
    "# train.dtypes[train.dtypes == 'float64'].index.tolist()"
   ]
  },
  {
   "cell_type": "code",
   "execution_count": 57,
   "id": "b1ba3def-0b67-418c-a189-a731545591fa",
   "metadata": {
    "tags": []
   },
   "outputs": [
    {
     "name": "stdout",
     "output_type": "stream",
     "text": [
      "모두 정수 값\n"
     ]
    }
   ],
   "source": [
    "# deci = False\n",
    "\n",
    "# for data in train['연체계좌수']:\n",
    "#     if data %1 != 0 :\n",
    "#         print('소수점 데이터 있음')\n",
    "#         deci = True\n",
    "#         break\n",
    "\n",
    "# if not deci:\n",
    "#     print('모두 정수 값')"
   ]
  },
  {
   "cell_type": "code",
   "execution_count": 19,
   "id": "9df0d92b-c4ec-4dd1-b05b-2704729ee484",
   "metadata": {
    "collapsed": true,
    "jupyter": {
     "outputs_hidden": true
    },
    "tags": []
   },
   "outputs": [
    {
     "data": {
      "text/plain": [
       "ID              0\n",
       "대출금액            0\n",
       "대출기간            0\n",
       "근로기간            0\n",
       "주택소유상태          0\n",
       "연간소득            0\n",
       "부채_대비_소득_비율     0\n",
       "총계좌수            0\n",
       "대출목적            0\n",
       "최근_2년간_연체_횟수    0\n",
       "총상환원금           0\n",
       "총상환이자           0\n",
       "총연체금액           0\n",
       "연체계좌수           0\n",
       "대출등급            0\n",
       "dtype: int64"
      ]
     },
     "execution_count": 19,
     "metadata": {},
     "output_type": "execute_result"
    }
   ],
   "source": [
    "train.isnull().sum()"
   ]
  },
  {
   "cell_type": "markdown",
   "id": "9b33e063-2adf-4ac8-ab57-568eb5661763",
   "metadata": {},
   "source": [
    "### - object feature\n",
    "  - 'ID' : 고객 아이디\n",
    "  - '대출기간' : (categort, 2개) 36months, 60months \n",
    "  - '근로기간' : 데이터 가공 필수, 수치형으로 변경, unknown 5.8%\n",
    "  - '주택소유상태' : (categori, 4개) MORTGAGE(대출), RENT, OWN, ANY? \n",
    "  - '대출목적' : (categori, 12개) ['부채 통합','신용 카드', '주택 개선','기타','주요 구매','의료','자동차','소규모 사업','이사','휴가','주택','재생 에너지']\n",
    "  - '대출등급' : (categori, 7개)target data"
   ]
  },
  {
   "cell_type": "markdown",
   "id": "8f85b1c0-9310-4a11-8619-c333e1bd8d46",
   "metadata": {},
   "source": [
    "### - integer feature\n",
    "  - '대출금액'\n",
    "  - '연간소득'\n",
    "  - '총계좌수'\n",
    "  - '최근_2년간_연체_횟수' : 0~30회, 0회가 79.3% 차지\n",
    "  - '총상환원금'"
   ]
  },
  {
   "cell_type": "markdown",
   "id": "3473b3fb-7570-4211-befb-8cf2be9ea904",
   "metadata": {},
   "source": [
    "### - float feature\n",
    "  - '부채_대비_소득_비율'\n",
    "  - '총상환이자' : 정수로 변경 가능\n",
    "  - '총연체금액' : 정수로 변경 가능\n",
    "  - '연체계좌수' : 정수로 변경 가능"
   ]
  },
  {
   "cell_type": "markdown",
   "id": "359503de-07d8-4e37-a746-e45e9e680f99",
   "metadata": {
    "tags": []
   },
   "source": [
    "## 2) 데이터 전처리"
   ]
  },
  {
   "cell_type": "code",
   "execution_count": 3,
   "id": "2d555462-04de-43bf-804d-e4835cd5d1b4",
   "metadata": {},
   "outputs": [],
   "source": [
    "all_df = pd.concat([train,test])"
   ]
  },
  {
   "cell_type": "markdown",
   "id": "dc36f1e9-2c01-4fef-b0a9-7f72b4b02fe3",
   "metadata": {
    "jp-MarkdownHeadingCollapsed": true,
    "tags": []
   },
   "source": [
    "#### ● 근로기간 column을 수치형으로 변경"
   ]
  },
  {
   "cell_type": "code",
   "execution_count": 4,
   "id": "78b769f1-620f-49ea-9776-09f7fb8c2c69",
   "metadata": {},
   "outputs": [
    {
     "data": {
      "text/plain": [
       "['10+ years',\n",
       " '2 years',\n",
       " '< 1 year',\n",
       " '3 years',\n",
       " '1 year',\n",
       " '5 years',\n",
       " 'Unknown',\n",
       " '4 years',\n",
       " '8 years',\n",
       " '6 years',\n",
       " '7 years',\n",
       " '9 years',\n",
       " '10+years',\n",
       " '<1 year',\n",
       " '3',\n",
       " '1 years']"
      ]
     },
     "execution_count": 4,
     "metadata": {},
     "output_type": "execute_result"
    }
   ],
   "source": [
    "all_df['근로기간'].value_counts().index.tolist()"
   ]
  },
  {
   "cell_type": "code",
   "execution_count": 5,
   "id": "abd5df30-2a7e-4f41-b415-f5e77f335cde",
   "metadata": {},
   "outputs": [
    {
     "data": {
      "text/plain": [
       "'10+'"
      ]
     },
     "execution_count": 5,
     "metadata": {},
     "output_type": "execute_result"
    }
   ],
   "source": [
    "# '10+ years'.split()[0]"
   ]
  },
  {
   "cell_type": "code",
   "execution_count": 4,
   "id": "744ac6c4-a035-4007-a742-38c44a786089",
   "metadata": {},
   "outputs": [],
   "source": [
    "def to_num(value):\n",
    "    try:\n",
    "        return int(value.split()[0])\n",
    "    except ValueError:\n",
    "        if value in ('10+ years','10+years'):\n",
    "            return 10\n",
    "        elif value in ('< 1 year','<1 year'):\n",
    "            return 0\n",
    "        else:\n",
    "            return np.nan"
   ]
  },
  {
   "cell_type": "code",
   "execution_count": 5,
   "id": "71a1add4-339f-40ca-87ab-9d7b3c5c994b",
   "metadata": {},
   "outputs": [
    {
     "data": {
      "text/plain": [
       "10.0    54034\n",
       "2.0     14059\n",
       "0.0     13546\n",
       "3.0     12755\n",
       "1.0     10579\n",
       "5.0      9592\n",
       "NaN      9533\n",
       "4.0      9250\n",
       "8.0      8172\n",
       "6.0      6353\n",
       "7.0      6329\n",
       "9.0      6289\n",
       "Name: 근로기간, dtype: int64"
      ]
     },
     "execution_count": 5,
     "metadata": {},
     "output_type": "execute_result"
    }
   ],
   "source": [
    "data = all_df['근로기간']\n",
    "data = data.apply(to_num)\n",
    "data.value_counts(dropna=False)"
   ]
  },
  {
   "cell_type": "code",
   "execution_count": 7,
   "id": "25b8d888-2dbf-402b-8488-6f544f2153b6",
   "metadata": {},
   "outputs": [],
   "source": [
    "all_df['근로기간'] = data"
   ]
  },
  {
   "cell_type": "markdown",
   "id": "0b4e6a78-b4d6-453a-8656-319b201f9f55",
   "metadata": {
    "jp-MarkdownHeadingCollapsed": true,
    "tags": []
   },
   "source": [
    "#### ● 불필요한 실수항 정수로 변경"
   ]
  },
  {
   "cell_type": "code",
   "execution_count": 8,
   "id": "ccf8b208-b384-4ebb-b73f-5596f6553b94",
   "metadata": {},
   "outputs": [],
   "source": [
    "col = ['총상환이자','총연체금액','연체계좌수']\n",
    "all_df[col] = all_df[col].astype(int)"
   ]
  },
  {
   "cell_type": "markdown",
   "id": "4f5e7794-ff91-4c2f-89b0-578aaf696d49",
   "metadata": {
    "jp-MarkdownHeadingCollapsed": true,
    "tags": []
   },
   "source": [
    "#### ● 카테고리 항목 라벨 인코딩"
   ]
  },
  {
   "cell_type": "code",
   "execution_count": 9,
   "id": "ce7fcfe0-574c-4d48-9ecc-87585a719f84",
   "metadata": {},
   "outputs": [
    {
     "data": {
      "text/plain": [
       "['ID', '대출기간', '주택소유상태', '대출목적', '대출등급']"
      ]
     },
     "execution_count": 9,
     "metadata": {},
     "output_type": "execute_result"
    }
   ],
   "source": [
    "all_df.dtypes[all_df.dtypes == 'object'].index.tolist()"
   ]
  },
  {
   "cell_type": "code",
   "execution_count": 10,
   "id": "572807e1-14cd-4bd6-9e3e-e658fa9a9bbe",
   "metadata": {},
   "outputs": [],
   "source": [
    "col = ['대출기간', '주택소유상태', '대출목적']\n",
    "for c in col:\n",
    "    all_df[c] = pd.factorize(all_df[c])[0]"
   ]
  },
  {
   "cell_type": "markdown",
   "id": "6d95237e-5bad-42da-9bf1-4b244c26be7a",
   "metadata": {},
   "source": [
    "#### ● train, test 분리"
   ]
  },
  {
   "cell_type": "code",
   "execution_count": 16,
   "id": "52aa99ae-ec19-4bcf-850c-bbe26aecc9cc",
   "metadata": {},
   "outputs": [
    {
     "name": "stdout",
     "output_type": "stream",
     "text": [
      "(96294, 15) (64197, 14)\n"
     ]
    }
   ],
   "source": [
    "train = all_df[~all_df['대출등급'].isnull()]\n",
    "test = all_df[all_df['대출등급'].isnull()].drop('대출등급',axis=1)\n",
    "print(train.shape, test.shape)"
   ]
  },
  {
   "cell_type": "markdown",
   "id": "8b7e8a1b-c8ba-4fff-bb67-d85aed929299",
   "metadata": {},
   "source": [
    "## 3) 모델 학습"
   ]
  },
  {
   "cell_type": "code",
   "execution_count": 18,
   "id": "1265c832-1a26-4656-99a7-8e0d3832316c",
   "metadata": {},
   "outputs": [
    {
     "data": {
      "text/plain": [
       "Index(['ID', '대출금액', '대출기간', '근로기간', '주택소유상태', '연간소득', '부채_대비_소득_비율', '총계좌수',\n",
       "       '대출목적', '최근_2년간_연체_횟수', '총상환원금', '총상환이자', '총연체금액', '연체계좌수', '대출등급'],\n",
       "      dtype='object')"
      ]
     },
     "execution_count": 18,
     "metadata": {},
     "output_type": "execute_result"
    }
   ],
   "source": [
    "train.columns"
   ]
  },
  {
   "cell_type": "code",
   "execution_count": 19,
   "id": "8a7516e1-f155-42b9-ad42-d68c3241d847",
   "metadata": {},
   "outputs": [],
   "source": [
    "X = train.drop(['ID','대출등급'], axis=1)\n",
    "y = train['대출등급']"
   ]
  },
  {
   "cell_type": "code",
   "execution_count": 21,
   "id": "82aa0f38-0a5e-45ba-883d-6588d163877f",
   "metadata": {},
   "outputs": [
    {
     "data": {
      "text/plain": [
       "((72220, 13), (24074, 13))"
      ]
     },
     "execution_count": 21,
     "metadata": {},
     "output_type": "execute_result"
    }
   ],
   "source": [
    "from sklearn.model_selection import train_test_split\n",
    "\n",
    "xt, xv, yt, yv = train_test_split(X,y,\n",
    "                                 test_size = 0.25,\n",
    "                                 random_state = 2024)\n",
    "\n",
    "xt.shape, xv.shape"
   ]
  },
  {
   "cell_type": "code",
   "execution_count": null,
   "id": "510eed8a-13b0-488d-9703-7408b5047665",
   "metadata": {},
   "outputs": [],
   "source": []
  }
 ],
 "metadata": {
  "kernelspec": {
   "display_name": "Python 3 (ipykernel)",
   "language": "python",
   "name": "python3"
  },
  "language_info": {
   "codemirror_mode": {
    "name": "ipython",
    "version": 3
   },
   "file_extension": ".py",
   "mimetype": "text/x-python",
   "name": "python",
   "nbconvert_exporter": "python",
   "pygments_lexer": "ipython3",
   "version": "3.9.13"
  }
 },
 "nbformat": 4,
 "nbformat_minor": 5
}
