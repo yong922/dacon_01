{
 "cells": [
  {
   "cell_type": "markdown",
   "id": "7d9adf12-45a3-40ad-b2c5-91e2287a9286",
   "metadata": {},
   "source": [
    "# 🌺 고객 대출등급 분류 해커톤 - BASE\n",
    "Evaluation Metric : Macro F1<br>\n",
    "Public Score : 전체 테스트 데이터 중 30%<br>\n",
    "Dead Line : 24-02-05 AM 10:00"
   ]
  },
  {
   "cell_type": "code",
   "execution_count": 1,
   "id": "3137ddf4-6689-4309-9f01-12d196535cbb",
   "metadata": {},
   "outputs": [],
   "source": [
    "import pandas as pd\n",
    "import numpy as np"
   ]
  },
  {
   "cell_type": "code",
   "execution_count": 2,
   "id": "096bb065-1a03-4f48-8a68-b7e9b975e431",
   "metadata": {},
   "outputs": [],
   "source": [
    "train = pd.read_csv('data/train.csv')\n",
    "test = pd.read_csv('data/test.csv')\n",
    "sample = pd.read_csv('data/sample_submission.csv')"
   ]
  },
  {
   "cell_type": "markdown",
   "id": "69ad8cce-1b94-4262-85cd-cf93415a66fd",
   "metadata": {
    "tags": []
   },
   "source": [
    "## 1) 데이터 탐색"
   ]
  },
  {
   "cell_type": "code",
   "execution_count": 17,
   "id": "96eba4df-d2c1-4c41-88e4-4dd86eda908f",
   "metadata": {},
   "outputs": [
    {
     "data": {
      "text/plain": [
       "((96294, 15), (64197, 14))"
      ]
     },
     "execution_count": 17,
     "metadata": {},
     "output_type": "execute_result"
    }
   ],
   "source": [
    "train.shape, test.shape"
   ]
  },
  {
   "cell_type": "code",
   "execution_count": 3,
   "id": "f157b7a2-db15-47ee-b4bd-121c328f82b3",
   "metadata": {},
   "outputs": [
    {
     "name": "stdout",
     "output_type": "stream",
     "text": [
      "<class 'pandas.core.frame.DataFrame'>\n",
      "RangeIndex: 96294 entries, 0 to 96293\n",
      "Data columns (total 15 columns):\n",
      " #   Column        Non-Null Count  Dtype  \n",
      "---  ------        --------------  -----  \n",
      " 0   ID            96294 non-null  object \n",
      " 1   대출금액          96294 non-null  int64  \n",
      " 2   대출기간          96294 non-null  object \n",
      " 3   근로기간          96294 non-null  object \n",
      " 4   주택소유상태        96294 non-null  object \n",
      " 5   연간소득          96294 non-null  int64  \n",
      " 6   부채_대비_소득_비율   96294 non-null  float64\n",
      " 7   총계좌수          96294 non-null  int64  \n",
      " 8   대출목적          96294 non-null  object \n",
      " 9   최근_2년간_연체_횟수  96294 non-null  int64  \n",
      " 10  총상환원금         96294 non-null  int64  \n",
      " 11  총상환이자         96294 non-null  float64\n",
      " 12  총연체금액         96294 non-null  float64\n",
      " 13  연체계좌수         96294 non-null  float64\n",
      " 14  대출등급          96294 non-null  object \n",
      "dtypes: float64(4), int64(5), object(6)\n",
      "memory usage: 11.0+ MB\n"
     ]
    }
   ],
   "source": [
    "train.info()"
   ]
  },
  {
   "cell_type": "code",
   "execution_count": 49,
   "id": "c41c4612-9920-4f12-9ab3-fe826fd3b432",
   "metadata": {},
   "outputs": [
    {
     "data": {
      "text/html": [
       "<div>\n",
       "<style scoped>\n",
       "    .dataframe tbody tr th:only-of-type {\n",
       "        vertical-align: middle;\n",
       "    }\n",
       "\n",
       "    .dataframe tbody tr th {\n",
       "        vertical-align: top;\n",
       "    }\n",
       "\n",
       "    .dataframe thead th {\n",
       "        text-align: right;\n",
       "    }\n",
       "</style>\n",
       "<table border=\"1\" class=\"dataframe\">\n",
       "  <thead>\n",
       "    <tr style=\"text-align: right;\">\n",
       "      <th></th>\n",
       "      <th>ID</th>\n",
       "      <th>대출금액</th>\n",
       "      <th>대출기간</th>\n",
       "      <th>근로기간</th>\n",
       "      <th>주택소유상태</th>\n",
       "      <th>연간소득</th>\n",
       "      <th>부채_대비_소득_비율</th>\n",
       "      <th>총계좌수</th>\n",
       "      <th>대출목적</th>\n",
       "      <th>최근_2년간_연체_횟수</th>\n",
       "      <th>총상환원금</th>\n",
       "      <th>총상환이자</th>\n",
       "      <th>총연체금액</th>\n",
       "      <th>연체계좌수</th>\n",
       "      <th>대출등급</th>\n",
       "    </tr>\n",
       "  </thead>\n",
       "  <tbody>\n",
       "    <tr>\n",
       "      <th>0</th>\n",
       "      <td>TRAIN_00000</td>\n",
       "      <td>12480000</td>\n",
       "      <td>36 months</td>\n",
       "      <td>6 years</td>\n",
       "      <td>RENT</td>\n",
       "      <td>72000000</td>\n",
       "      <td>18.90</td>\n",
       "      <td>15</td>\n",
       "      <td>부채 통합</td>\n",
       "      <td>0</td>\n",
       "      <td>0</td>\n",
       "      <td>0.0</td>\n",
       "      <td>0.0</td>\n",
       "      <td>0.0</td>\n",
       "      <td>C</td>\n",
       "    </tr>\n",
       "    <tr>\n",
       "      <th>1</th>\n",
       "      <td>TRAIN_00001</td>\n",
       "      <td>14400000</td>\n",
       "      <td>60 months</td>\n",
       "      <td>10+ years</td>\n",
       "      <td>MORTGAGE</td>\n",
       "      <td>130800000</td>\n",
       "      <td>22.33</td>\n",
       "      <td>21</td>\n",
       "      <td>주택 개선</td>\n",
       "      <td>0</td>\n",
       "      <td>373572</td>\n",
       "      <td>234060.0</td>\n",
       "      <td>0.0</td>\n",
       "      <td>0.0</td>\n",
       "      <td>B</td>\n",
       "    </tr>\n",
       "    <tr>\n",
       "      <th>2</th>\n",
       "      <td>TRAIN_00002</td>\n",
       "      <td>12000000</td>\n",
       "      <td>36 months</td>\n",
       "      <td>5 years</td>\n",
       "      <td>MORTGAGE</td>\n",
       "      <td>96000000</td>\n",
       "      <td>8.60</td>\n",
       "      <td>14</td>\n",
       "      <td>부채 통합</td>\n",
       "      <td>0</td>\n",
       "      <td>928644</td>\n",
       "      <td>151944.0</td>\n",
       "      <td>0.0</td>\n",
       "      <td>0.0</td>\n",
       "      <td>A</td>\n",
       "    </tr>\n",
       "    <tr>\n",
       "      <th>3</th>\n",
       "      <td>TRAIN_00003</td>\n",
       "      <td>14400000</td>\n",
       "      <td>36 months</td>\n",
       "      <td>8 years</td>\n",
       "      <td>MORTGAGE</td>\n",
       "      <td>132000000</td>\n",
       "      <td>15.09</td>\n",
       "      <td>15</td>\n",
       "      <td>부채 통합</td>\n",
       "      <td>0</td>\n",
       "      <td>325824</td>\n",
       "      <td>153108.0</td>\n",
       "      <td>0.0</td>\n",
       "      <td>0.0</td>\n",
       "      <td>C</td>\n",
       "    </tr>\n",
       "    <tr>\n",
       "      <th>4</th>\n",
       "      <td>TRAIN_00004</td>\n",
       "      <td>18000000</td>\n",
       "      <td>60 months</td>\n",
       "      <td>Unknown</td>\n",
       "      <td>RENT</td>\n",
       "      <td>71736000</td>\n",
       "      <td>25.39</td>\n",
       "      <td>19</td>\n",
       "      <td>주요 구매</td>\n",
       "      <td>0</td>\n",
       "      <td>228540</td>\n",
       "      <td>148956.0</td>\n",
       "      <td>0.0</td>\n",
       "      <td>0.0</td>\n",
       "      <td>B</td>\n",
       "    </tr>\n",
       "  </tbody>\n",
       "</table>\n",
       "</div>"
      ],
      "text/plain": [
       "            ID      대출금액        대출기간       근로기간    주택소유상태       연간소득  \\\n",
       "0  TRAIN_00000  12480000   36 months    6 years      RENT   72000000   \n",
       "1  TRAIN_00001  14400000   60 months  10+ years  MORTGAGE  130800000   \n",
       "2  TRAIN_00002  12000000   36 months    5 years  MORTGAGE   96000000   \n",
       "3  TRAIN_00003  14400000   36 months    8 years  MORTGAGE  132000000   \n",
       "4  TRAIN_00004  18000000   60 months    Unknown      RENT   71736000   \n",
       "\n",
       "   부채_대비_소득_비율  총계좌수   대출목적  최근_2년간_연체_횟수   총상환원금     총상환이자  총연체금액  연체계좌수 대출등급  \n",
       "0        18.90    15  부채 통합             0       0       0.0    0.0    0.0    C  \n",
       "1        22.33    21  주택 개선             0  373572  234060.0    0.0    0.0    B  \n",
       "2         8.60    14  부채 통합             0  928644  151944.0    0.0    0.0    A  \n",
       "3        15.09    15  부채 통합             0  325824  153108.0    0.0    0.0    C  \n",
       "4        25.39    19  주요 구매             0  228540  148956.0    0.0    0.0    B  "
      ]
     },
     "execution_count": 49,
     "metadata": {},
     "output_type": "execute_result"
    }
   ],
   "source": [
    "train.head()"
   ]
  },
  {
   "cell_type": "code",
   "execution_count": 4,
   "id": "36ef4a28-a130-4e24-adac-8eede262576d",
   "metadata": {},
   "outputs": [],
   "source": [
    "# train.dtypes[train.dtypes == 'float64'].index.tolist()"
   ]
  },
  {
   "cell_type": "code",
   "execution_count": 57,
   "id": "b1ba3def-0b67-418c-a189-a731545591fa",
   "metadata": {
    "tags": []
   },
   "outputs": [
    {
     "name": "stdout",
     "output_type": "stream",
     "text": [
      "모두 정수 값\n"
     ]
    }
   ],
   "source": [
    "# deci = False\n",
    "\n",
    "# for data in train['연체계좌수']:\n",
    "#     if data %1 != 0 :\n",
    "#         print('소수점 데이터 있음')\n",
    "#         deci = True\n",
    "#         break\n",
    "\n",
    "# if not deci:\n",
    "#     print('모두 정수 값')"
   ]
  },
  {
   "cell_type": "code",
   "execution_count": 19,
   "id": "9df0d92b-c4ec-4dd1-b05b-2704729ee484",
   "metadata": {
    "collapsed": true,
    "jupyter": {
     "outputs_hidden": true
    },
    "tags": []
   },
   "outputs": [
    {
     "data": {
      "text/plain": [
       "ID              0\n",
       "대출금액            0\n",
       "대출기간            0\n",
       "근로기간            0\n",
       "주택소유상태          0\n",
       "연간소득            0\n",
       "부채_대비_소득_비율     0\n",
       "총계좌수            0\n",
       "대출목적            0\n",
       "최근_2년간_연체_횟수    0\n",
       "총상환원금           0\n",
       "총상환이자           0\n",
       "총연체금액           0\n",
       "연체계좌수           0\n",
       "대출등급            0\n",
       "dtype: int64"
      ]
     },
     "execution_count": 19,
     "metadata": {},
     "output_type": "execute_result"
    }
   ],
   "source": [
    "train.isnull().sum()"
   ]
  },
  {
   "cell_type": "markdown",
   "id": "9b33e063-2adf-4ac8-ab57-568eb5661763",
   "metadata": {},
   "source": [
    "### - object feature\n",
    "  - 'ID' : 고객 아이디\n",
    "  - '대출기간' : (categort, 2개) 36months, 60months \n",
    "  - '근로기간' : 데이터 가공 필수, 수치형으로 변경, unknown 5.8%\n",
    "  - '주택소유상태' : (categori, 4개) MORTGAGE(대출), RENT, OWN, ANY? \n",
    "  - '대출목적' : (categori, 12개) ['부채 통합','신용 카드', '주택 개선','기타','주요 구매','의료','자동차','소규모 사업','이사','휴가','주택','재생 에너지']\n",
    "  - '대출등급' : (categori, 7개)target data"
   ]
  },
  {
   "cell_type": "markdown",
   "id": "8f85b1c0-9310-4a11-8619-c333e1bd8d46",
   "metadata": {},
   "source": [
    "### - integer feature\n",
    "  - '대출금액'\n",
    "  - '연간소득'\n",
    "  - '총계좌수'\n",
    "  - '최근_2년간_연체_횟수' : 0~30회, 0회가 79.3% 차지\n",
    "  - '총상환원금'"
   ]
  },
  {
   "cell_type": "markdown",
   "id": "3473b3fb-7570-4211-befb-8cf2be9ea904",
   "metadata": {},
   "source": [
    "### - float feature\n",
    "  - '부채_대비_소득_비율'\n",
    "  - '총상환이자' : 정수로 변경 가능\n",
    "  - '총연체금액' : 정수로 변경 가능\n",
    "  - '연체계좌수' : 정수로 변경 가능"
   ]
  },
  {
   "cell_type": "markdown",
   "id": "359503de-07d8-4e37-a746-e45e9e680f99",
   "metadata": {
    "tags": []
   },
   "source": [
    "## 2) 데이터 전처리"
   ]
  },
  {
   "cell_type": "code",
   "execution_count": 3,
   "id": "2d555462-04de-43bf-804d-e4835cd5d1b4",
   "metadata": {},
   "outputs": [],
   "source": [
    "all_df = pd.concat([train,test])"
   ]
  },
  {
   "cell_type": "markdown",
   "id": "dc36f1e9-2c01-4fef-b0a9-7f72b4b02fe3",
   "metadata": {
    "tags": []
   },
   "source": [
    "#### ● 근로기간 column을 수치형으로 변경"
   ]
  },
  {
   "cell_type": "code",
   "execution_count": 4,
   "id": "78b769f1-620f-49ea-9776-09f7fb8c2c69",
   "metadata": {},
   "outputs": [
    {
     "data": {
      "text/plain": [
       "['10+ years',\n",
       " '2 years',\n",
       " '< 1 year',\n",
       " '3 years',\n",
       " '1 year',\n",
       " '5 years',\n",
       " 'Unknown',\n",
       " '4 years',\n",
       " '8 years',\n",
       " '6 years',\n",
       " '7 years',\n",
       " '9 years',\n",
       " '10+years',\n",
       " '<1 year',\n",
       " '3',\n",
       " '1 years']"
      ]
     },
     "execution_count": 4,
     "metadata": {},
     "output_type": "execute_result"
    }
   ],
   "source": [
    "all_df['근로기간'].value_counts().index.tolist()"
   ]
  },
  {
   "cell_type": "code",
   "execution_count": 5,
   "id": "abd5df30-2a7e-4f41-b415-f5e77f335cde",
   "metadata": {},
   "outputs": [],
   "source": [
    "# '10+ years'.split()[0]"
   ]
  },
  {
   "cell_type": "code",
   "execution_count": 6,
   "id": "744ac6c4-a035-4007-a742-38c44a786089",
   "metadata": {},
   "outputs": [],
   "source": [
    "def to_num(value):\n",
    "    try:\n",
    "        return int(value.split()[0])\n",
    "    except ValueError:\n",
    "        if value in ('10+ years','10+years'):\n",
    "            return 10\n",
    "        elif value in ('< 1 year','<1 year'):\n",
    "            return 0\n",
    "        else:\n",
    "            return np.nan"
   ]
  },
  {
   "cell_type": "code",
   "execution_count": 7,
   "id": "71a1add4-339f-40ca-87ab-9d7b3c5c994b",
   "metadata": {},
   "outputs": [
    {
     "data": {
      "text/plain": [
       "10.0    54034\n",
       "2.0     14059\n",
       "0.0     13546\n",
       "3.0     12755\n",
       "1.0     10579\n",
       "5.0      9592\n",
       "NaN      9533\n",
       "4.0      9250\n",
       "8.0      8172\n",
       "6.0      6353\n",
       "7.0      6329\n",
       "9.0      6289\n",
       "Name: 근로기간, dtype: int64"
      ]
     },
     "execution_count": 7,
     "metadata": {},
     "output_type": "execute_result"
    }
   ],
   "source": [
    "data = df['근로기간']\n",
    "data = data.apply(to_num)\n",
    "data.value_counts(dropna=False)"
   ]
  },
  {
   "cell_type": "code",
   "execution_count": 8,
   "id": "25b8d888-2dbf-402b-8488-6f544f2153b6",
   "metadata": {},
   "outputs": [],
   "source": [
    "all_df['근로기간'] = data"
   ]
  },
  {
   "cell_type": "markdown",
   "id": "0b4e6a78-b4d6-453a-8656-319b201f9f55",
   "metadata": {
    "tags": []
   },
   "source": [
    "#### ● 불필요한 실수항 정수로 변경"
   ]
  },
  {
   "cell_type": "code",
   "execution_count": 9,
   "id": "ccf8b208-b384-4ebb-b73f-5596f6553b94",
   "metadata": {},
   "outputs": [],
   "source": [
    "col = ['총상환이자','총연체금액','연체계좌수']\n",
    "all_df[col] = all_df[col].astype(int)"
   ]
  },
  {
   "cell_type": "markdown",
   "id": "4f5e7794-ff91-4c2f-89b0-578aaf696d49",
   "metadata": {
    "tags": []
   },
   "source": [
    "#### ● 카테고리 항목 라벨 인코딩"
   ]
  },
  {
   "cell_type": "code",
   "execution_count": 10,
   "id": "ce7fcfe0-574c-4d48-9ecc-87585a719f84",
   "metadata": {},
   "outputs": [
    {
     "data": {
      "text/plain": [
       "['ID', '대출기간', '주택소유상태', '대출목적', '대출등급']"
      ]
     },
     "execution_count": 10,
     "metadata": {},
     "output_type": "execute_result"
    }
   ],
   "source": [
    "all_df.dtypes[all_df.dtypes == 'object'].index.tolist()"
   ]
  },
  {
   "cell_type": "code",
   "execution_count": 11,
   "id": "572807e1-14cd-4bd6-9e3e-e658fa9a9bbe",
   "metadata": {},
   "outputs": [],
   "source": [
    "col = ['대출기간', '주택소유상태', '대출목적']\n",
    "for c in col:\n",
    "    all_df[c] = pd.factorize(all_df[c])[0]"
   ]
  },
  {
   "cell_type": "markdown",
   "id": "6d95237e-5bad-42da-9bf1-4b244c26be7a",
   "metadata": {},
   "source": [
    "#### ● train, test 분리"
   ]
  },
  {
   "cell_type": "code",
   "execution_count": 12,
   "id": "52aa99ae-ec19-4bcf-850c-bbe26aecc9cc",
   "metadata": {},
   "outputs": [
    {
     "name": "stdout",
     "output_type": "stream",
     "text": [
      "(96294, 15) (64197, 14)\n"
     ]
    }
   ],
   "source": [
    "train = all_df[~all_df['대출등급'].isnull()]\n",
    "test = all_df[all_df['대출등급'].isnull()].drop('대출등급',axis=1)\n",
    "print(train.shape, test.shape)"
   ]
  },
  {
   "cell_type": "markdown",
   "id": "8b7e8a1b-c8ba-4fff-bb67-d85aed929299",
   "metadata": {},
   "source": [
    "## 3) 모델 학습"
   ]
  },
  {
   "cell_type": "code",
   "execution_count": 13,
   "id": "8b8dcc35-138d-488b-8841-5b85215e46ea",
   "metadata": {},
   "outputs": [
    {
     "name": "stderr",
     "output_type": "stream",
     "text": [
      "C:\\Users\\USER\\anaconda3\\lib\\site-packages\\scipy\\__init__.py:155: UserWarning: A NumPy version >=1.18.5 and <1.25.0 is required for this version of SciPy (detected version 1.26.3\n",
      "  warnings.warn(f\"A NumPy version >={np_minversion} and <{np_maxversion}\"\n"
     ]
    }
   ],
   "source": [
    "import optuna\n",
    "from lightgbm import LGBMClassifier\n",
    "import lightgbm as lgb\n",
    "from sklearn.model_selection import cross_val_score, train_test_split"
   ]
  },
  {
   "cell_type": "markdown",
   "id": "8c16e667-709d-456e-b0bc-6ca09b2ae1a2",
   "metadata": {
    "tags": []
   },
   "source": [
    "#### ● 대략적인 하이퍼파라미터 탐색"
   ]
  },
  {
   "cell_type": "code",
   "execution_count": 17,
   "id": "62d922a5-405f-4e4a-82b5-3710df450e70",
   "metadata": {},
   "outputs": [],
   "source": [
    "def objective_lgbm(trial):\n",
    "    \n",
    "    params = {\n",
    "              'objective': 'multiclass', 'num_class': 7,\n",
    "              'max_depth': trial.suggest_int('max_depth',10,20),\n",
    "              'num_leaves' : trial.suggest_int('num_leaves',24,64),\n",
    "              'min_child_samples': trial.suggest_int('min_child_samples', 10, 100),\n",
    "              'min_child_weight': trial.suggest_int('min_child_weight', 1, 40),\n",
    "              'learning_rate': trial.suggest_float('learning_rate', 0.02, 0.06),\n",
    "              # 'n_estimators': trial.suggest_int('n_estimators', 275, 2000),\n",
    "              'subsample': trial.suggest_float('subsample', 0.5, 1.0),\n",
    "              'colsample_bytree': trial.suggest_float('colsample_bytree', 0.1, 0.2),\n",
    "              'reg_alpha': trial.suggest_float('reg_alpha', 0.001, 10),\n",
    "              'reg_lambda': trial.suggest_float('reg_lambda', 0.01, 20),\n",
    "              'random_state': 2024\n",
    "            }\n",
    "\n",
    "\n",
    "    model = LGBMClassifier(**params, verbose=-1)\n",
    "\n",
    "    scores = cross_val_score(model, X , y, cv=5, scoring='neg_log_loss')\n",
    "\n",
    "    return -scores.mean()"
   ]
  },
  {
   "cell_type": "code",
   "execution_count": 27,
   "id": "90936805-f081-48cb-85ec-064c1c21a6f2",
   "metadata": {
    "collapsed": true,
    "jupyter": {
     "outputs_hidden": true
    },
    "tags": []
   },
   "outputs": [
    {
     "name": "stderr",
     "output_type": "stream",
     "text": [
      "[I 2024-02-03 14:15:25,713] A new study created in memory with name: no-name-686d84e0-03e9-4264-9207-2c3ae1a52d5a\n",
      "[I 2024-02-03 14:15:37,485] Trial 0 finished with value: 1.2581844458447033 and parameters: {'max_depth': 16, 'num_leaves': 38, 'min_child_samples': 100, 'min_child_weight': 38, 'learning_rate': 0.050865435644273066, 'subsample': 0.9564589279739316, 'colsample_bytree': 0.12410451831331479, 'reg_alpha': 5.323284286511127, 'reg_lambda': 9.876845714255827}. Best is trial 0 with value: 1.2581844458447033.\n",
      "[I 2024-02-03 14:15:49,561] Trial 1 finished with value: 1.2330609579624194 and parameters: {'max_depth': 13, 'num_leaves': 44, 'min_child_samples': 60, 'min_child_weight': 25, 'learning_rate': 0.058507718699505246, 'subsample': 0.8842961536456271, 'colsample_bytree': 0.12869547632682204, 'reg_alpha': 8.777213681599958, 'reg_lambda': 9.460588363525325}. Best is trial 1 with value: 1.2330609579624194.\n",
      "[I 2024-02-03 14:16:02,848] Trial 2 finished with value: 1.224521027175987 and parameters: {'max_depth': 16, 'num_leaves': 57, 'min_child_samples': 56, 'min_child_weight': 3, 'learning_rate': 0.05626980500124504, 'subsample': 0.7197599368619851, 'colsample_bytree': 0.14955899796584252, 'reg_alpha': 8.247674374530089, 'reg_lambda': 7.81026787101829}. Best is trial 2 with value: 1.224521027175987.\n",
      "[I 2024-02-03 14:16:16,238] Trial 3 finished with value: 1.2399201917234333 and parameters: {'max_depth': 12, 'num_leaves': 47, 'min_child_samples': 82, 'min_child_weight': 32, 'learning_rate': 0.05261530689409069, 'subsample': 0.5517220934619058, 'colsample_bytree': 0.1841977676532001, 'reg_alpha': 2.9935492330851563, 'reg_lambda': 7.685817372129737}. Best is trial 2 with value: 1.224521027175987.\n",
      "[I 2024-02-03 14:16:30,009] Trial 4 finished with value: 1.2874809349236505 and parameters: {'max_depth': 13, 'num_leaves': 61, 'min_child_samples': 87, 'min_child_weight': 21, 'learning_rate': 0.03589836010830551, 'subsample': 0.9379527481900853, 'colsample_bytree': 0.18986959202243062, 'reg_alpha': 6.218057303724379, 'reg_lambda': 1.429156384799381}. Best is trial 2 with value: 1.224521027175987.\n",
      "[I 2024-02-03 14:16:43,310] Trial 5 finished with value: 1.2535876365716754 and parameters: {'max_depth': 17, 'num_leaves': 29, 'min_child_samples': 88, 'min_child_weight': 22, 'learning_rate': 0.05580460296397774, 'subsample': 0.7759193619232505, 'colsample_bytree': 0.15001690133733336, 'reg_alpha': 7.653116155690396, 'reg_lambda': 5.285285957455603}. Best is trial 2 with value: 1.224521027175987.\n",
      "[I 2024-02-03 14:16:56,697] Trial 6 finished with value: 1.2493354130085117 and parameters: {'max_depth': 10, 'num_leaves': 26, 'min_child_samples': 12, 'min_child_weight': 4, 'learning_rate': 0.056404310275901315, 'subsample': 0.5485915557725134, 'colsample_bytree': 0.1894464950156305, 'reg_alpha': 5.422893664351271, 'reg_lambda': 0.14982523888222676}. Best is trial 2 with value: 1.224521027175987.\n",
      "[I 2024-02-03 14:17:11,941] Trial 7 finished with value: 1.186641885478679 and parameters: {'max_depth': 10, 'num_leaves': 37, 'min_child_samples': 90, 'min_child_weight': 15, 'learning_rate': 0.036481425748251486, 'subsample': 0.6508989164463868, 'colsample_bytree': 0.19856128726180355, 'reg_alpha': 6.585881344207708, 'reg_lambda': 9.848993188389858}. Best is trial 7 with value: 1.186641885478679.\n",
      "[I 2024-02-03 14:17:26,402] Trial 8 finished with value: 1.3165719367158257 and parameters: {'max_depth': 10, 'num_leaves': 39, 'min_child_samples': 10, 'min_child_weight': 12, 'learning_rate': 0.03207268235260751, 'subsample': 0.8768601213823516, 'colsample_bytree': 0.1414762382350458, 'reg_alpha': 0.10944435765447462, 'reg_lambda': 1.924866964548319}. Best is trial 7 with value: 1.186641885478679.\n",
      "[I 2024-02-03 14:17:38,471] Trial 9 finished with value: 1.3532903816522965 and parameters: {'max_depth': 14, 'num_leaves': 51, 'min_child_samples': 71, 'min_child_weight': 24, 'learning_rate': 0.05694527318567209, 'subsample': 0.7933396591367005, 'colsample_bytree': 0.10762901043943317, 'reg_alpha': 2.063987429324491, 'reg_lambda': 1.3231855325392252}. Best is trial 7 with value: 1.186641885478679.\n",
      "[I 2024-02-03 14:17:51,727] Trial 10 finished with value: 1.382369536039606 and parameters: {'max_depth': 20, 'num_leaves': 34, 'min_child_samples': 35, 'min_child_weight': 12, 'learning_rate': 0.022064720825284122, 'subsample': 0.6538684531553859, 'colsample_bytree': 0.1732101927389976, 'reg_alpha': 9.69185483162063, 'reg_lambda': 4.076311279918459}. Best is trial 7 with value: 1.186641885478679.\n",
      "[I 2024-02-03 14:18:06,110] Trial 11 finished with value: 1.262332842635275 and parameters: {'max_depth': 18, 'num_leaves': 60, 'min_child_samples': 45, 'min_child_weight': 1, 'learning_rate': 0.0440402403211293, 'subsample': 0.6655277244740376, 'colsample_bytree': 0.16427168728966376, 'reg_alpha': 8.032282940106182, 'reg_lambda': 8.052081318550114}. Best is trial 7 with value: 1.186641885478679.\n",
      "[I 2024-02-03 14:18:20,820] Trial 12 finished with value: 1.263459607796129 and parameters: {'max_depth': 15, 'num_leaves': 54, 'min_child_samples': 62, 'min_child_weight': 12, 'learning_rate': 0.04395910644884131, 'subsample': 0.6803841175138977, 'colsample_bytree': 0.15670901400636944, 'reg_alpha': 6.775617698797404, 'reg_lambda': 7.022116676375774}. Best is trial 7 with value: 1.186641885478679.\n",
      "[I 2024-02-03 14:18:34,468] Trial 13 finished with value: 1.3388593452644026 and parameters: {'max_depth': 19, 'num_leaves': 54, 'min_child_samples': 33, 'min_child_weight': 6, 'learning_rate': 0.027568396813659166, 'subsample': 0.7126718935489536, 'colsample_bytree': 0.13635242788404822, 'reg_alpha': 9.490028053812031, 'reg_lambda': 6.161605779038764}. Best is trial 7 with value: 1.186641885478679.\n",
      "[I 2024-02-03 14:18:48,691] Trial 14 finished with value: 1.281266389727802 and parameters: {'max_depth': 16, 'num_leaves': 43, 'min_child_samples': 75, 'min_child_weight': 16, 'learning_rate': 0.04100719950753759, 'subsample': 0.5997471917328862, 'colsample_bytree': 0.17175268142313035, 'reg_alpha': 4.046815275705902, 'reg_lambda': 8.84755821822284}. Best is trial 7 with value: 1.186641885478679.\n",
      "[I 2024-02-03 14:19:01,990] Trial 15 finished with value: 1.3808354854813174 and parameters: {'max_depth': 12, 'num_leaves': 64, 'min_child_samples': 100, 'min_child_weight': 8, 'learning_rate': 0.048909700988796226, 'subsample': 0.5020087895978851, 'colsample_bytree': 0.10119175547153081, 'reg_alpha': 7.136135392386054, 'reg_lambda': 8.513837724940807}. Best is trial 7 with value: 1.186641885478679.\n",
      "[I 2024-02-03 14:19:17,043] Trial 16 finished with value: 1.1829732381985458 and parameters: {'max_depth': 15, 'num_leaves': 34, 'min_child_samples': 52, 'min_child_weight': 17, 'learning_rate': 0.03694369192285147, 'subsample': 0.742380732169347, 'colsample_bytree': 0.19906809800629321, 'reg_alpha': 8.221924385836154, 'reg_lambda': 3.925835097562409}. Best is trial 16 with value: 1.1829732381985458.\n",
      "[I 2024-02-03 14:19:33,624] Trial 17 finished with value: 1.187499194644999 and parameters: {'max_depth': 11, 'num_leaves': 34, 'min_child_samples': 43, 'min_child_weight': 17, 'learning_rate': 0.03495085367943855, 'subsample': 0.8190753531398609, 'colsample_bytree': 0.19896107443798375, 'reg_alpha': 4.198769524070513, 'reg_lambda': 3.5804972796680787}. Best is trial 16 with value: 1.1829732381985458.\n",
      "[I 2024-02-03 14:19:49,784] Trial 18 finished with value: 1.2426915992714027 and parameters: {'max_depth': 14, 'num_leaves': 31, 'min_child_samples': 25, 'min_child_weight': 29, 'learning_rate': 0.028202862213406506, 'subsample': 0.6312771930705187, 'colsample_bytree': 0.1984738566643751, 'reg_alpha': 6.125716357424941, 'reg_lambda': 2.8448914076224225}. Best is trial 16 with value: 1.1829732381985458.\n",
      "[I 2024-02-03 14:20:02,746] Trial 19 finished with value: 1.3163208591571216 and parameters: {'max_depth': 18, 'num_leaves': 25, 'min_child_samples': 66, 'min_child_weight': 17, 'learning_rate': 0.038438934373157575, 'subsample': 0.7418565800736358, 'colsample_bytree': 0.1837351058983307, 'reg_alpha': 8.682141474618803, 'reg_lambda': 5.4266345668666265}. Best is trial 16 with value: 1.1829732381985458.\n",
      "[I 2024-02-03 14:20:16,245] Trial 20 finished with value: 1.330408661098129 and parameters: {'max_depth': 11, 'num_leaves': 37, 'min_child_samples': 49, 'min_child_weight': 30, 'learning_rate': 0.03098345391739396, 'subsample': 0.6076704228541536, 'colsample_bytree': 0.1748841461069427, 'reg_alpha': 4.31066132042225, 'reg_lambda': 4.365154522340924}. Best is trial 16 with value: 1.1829732381985458.\n",
      "[I 2024-02-03 14:20:31,951] Trial 21 finished with value: 1.1956481000529855 and parameters: {'max_depth': 11, 'num_leaves': 33, 'min_child_samples': 44, 'min_child_weight': 17, 'learning_rate': 0.0338201835900756, 'subsample': 0.817948062057605, 'colsample_bytree': 0.19775770303937942, 'reg_alpha': 3.4712326777484384, 'reg_lambda': 3.336729604233217}. Best is trial 16 with value: 1.1829732381985458.\n",
      "[I 2024-02-03 14:20:48,536] Trial 22 finished with value: 1.1492212085337512 and parameters: {'max_depth': 10, 'num_leaves': 41, 'min_child_samples': 36, 'min_child_weight': 15, 'learning_rate': 0.038271390011357716, 'subsample': 0.8240659327203188, 'colsample_bytree': 0.1991348172483006, 'reg_alpha': 1.814111538332781, 'reg_lambda': 3.115892763637826}. Best is trial 22 with value: 1.1492212085337512.\n",
      "[I 2024-02-03 14:21:03,009] Trial 23 finished with value: 1.2793440116375063 and parameters: {'max_depth': 10, 'num_leaves': 41, 'min_child_samples': 23, 'min_child_weight': 13, 'learning_rate': 0.04060849497818436, 'subsample': 0.871786741184391, 'colsample_bytree': 0.18212637912737326, 'reg_alpha': 0.7071619270265357, 'reg_lambda': 2.66271031286977}. Best is trial 22 with value: 1.1492212085337512.\n",
      "[I 2024-02-03 14:21:17,747] Trial 24 finished with value: 1.257713478666093 and parameters: {'max_depth': 12, 'num_leaves': 46, 'min_child_samples': 35, 'min_child_weight': 19, 'learning_rate': 0.045328212611559456, 'subsample': 0.9967145795040573, 'colsample_bytree': 0.1902428656538268, 'reg_alpha': 1.7962454064826514, 'reg_lambda': 4.6208797532162365}. Best is trial 22 with value: 1.1492212085337512.\n",
      "[I 2024-02-03 14:21:31,309] Trial 25 finished with value: 1.3007946843757126 and parameters: {'max_depth': 14, 'num_leaves': 36, 'min_child_samples': 51, 'min_child_weight': 9, 'learning_rate': 0.03805580234887819, 'subsample': 0.7599702913611389, 'colsample_bytree': 0.1650282290446262, 'reg_alpha': 7.277153962057058, 'reg_lambda': 6.066909839978033}. Best is trial 22 with value: 1.1492212085337512.\n",
      "[I 2024-02-03 14:21:46,674] Trial 26 finished with value: 1.2535244158041514 and parameters: {'max_depth': 10, 'num_leaves': 30, 'min_child_samples': 23, 'min_child_weight': 14, 'learning_rate': 0.026115027180981482, 'subsample': 0.6961343720346179, 'colsample_bytree': 0.1999101726356582, 'reg_alpha': 5.936758429035875, 'reg_lambda': 0.09638618450208458}. Best is trial 22 with value: 1.1492212085337512.\n",
      "[I 2024-02-03 14:22:01,532] Trial 27 finished with value: 1.2527661565693031 and parameters: {'max_depth': 13, 'num_leaves': 41, 'min_child_samples': 75, 'min_child_weight': 9, 'learning_rate': 0.04711994150655396, 'subsample': 0.830093772385987, 'colsample_bytree': 0.17910784857131012, 'reg_alpha': 2.213822053462759, 'reg_lambda': 2.344358053793959}. Best is trial 22 with value: 1.1492212085337512.\n",
      "[I 2024-02-03 14:22:16,225] Trial 28 finished with value: 1.2919764737098673 and parameters: {'max_depth': 11, 'num_leaves': 49, 'min_child_samples': 40, 'min_child_weight': 26, 'learning_rate': 0.037361237927333396, 'subsample': 0.7284974448943355, 'colsample_bytree': 0.19222812595495678, 'reg_alpha': 4.836220932230928, 'reg_lambda': 3.485665170891738}. Best is trial 22 with value: 1.1492212085337512.\n",
      "[I 2024-02-03 14:22:30,425] Trial 29 finished with value: 1.2862407006800178 and parameters: {'max_depth': 17, 'num_leaves': 39, 'min_child_samples': 53, 'min_child_weight': 40, 'learning_rate': 0.04215372530284876, 'subsample': 0.9047468058712197, 'colsample_bytree': 0.16273341476302777, 'reg_alpha': 5.323569706823452, 'reg_lambda': 9.960475770024907}. Best is trial 22 with value: 1.1492212085337512.\n"
     ]
    },
    {
     "name": "stdout",
     "output_type": "stream",
     "text": [
      "Best Parameters: {'max_depth': 10, 'num_leaves': 41, 'min_child_samples': 36, 'min_child_weight': 15, 'learning_rate': 0.038271390011357716, 'subsample': 0.8240659327203188, 'colsample_bytree': 0.1991348172483006, 'reg_alpha': 1.814111538332781, 'reg_lambda': 3.115892763637826}\n"
     ]
    }
   ],
   "source": [
    "study = optuna.create_study(direction='minimize')\n",
    "study.optimize(objective_lgbm, n_trials=30)  # Adjust the number of trials to 100-1000\n",
    "best_params = study.best_params\n",
    "print('Best Parameters:', best_params)"
   ]
  },
  {
   "cell_type": "markdown",
   "id": "32657f36-6b30-4726-a141-56ad53fea48c",
   "metadata": {},
   "source": [
    "#### ● lgbm 학습"
   ]
  },
  {
   "cell_type": "code",
   "execution_count": 14,
   "id": "8a7516e1-f155-42b9-ad42-d68c3241d847",
   "metadata": {},
   "outputs": [],
   "source": [
    "X = train.drop(['ID','대출등급'], axis=1)\n",
    "y = train['대출등급']"
   ]
  },
  {
   "cell_type": "code",
   "execution_count": 15,
   "id": "82aa0f38-0a5e-45ba-883d-6588d163877f",
   "metadata": {},
   "outputs": [
    {
     "data": {
      "text/plain": [
       "((72220, 13), (24074, 13))"
      ]
     },
     "execution_count": 15,
     "metadata": {},
     "output_type": "execute_result"
    }
   ],
   "source": [
    "xt, xv, yt, yv = train_test_split(X,y,\n",
    "                                 test_size = 0.25,\n",
    "                                 random_state = 2024)\n",
    "\n",
    "xt.shape, xv.shape"
   ]
  },
  {
   "cell_type": "code",
   "execution_count": 26,
   "id": "009d3a93-f6ec-45b3-8d94-21656a375ff7",
   "metadata": {},
   "outputs": [],
   "source": [
    "params = {'n_estimators': 1000,\n",
    "          'max_depth': 10, \n",
    "          'num_leaves': 41, \n",
    "          'min_child_samples': 36, \n",
    "          'min_child_weight': 15, \n",
    "          'learning_rate': 0.038271390011357716, \n",
    "          'subsample': 0.8240659327203188, \n",
    "          'colsample_bytree': 0.1991348172483006, \n",
    "          'reg_alpha': 1.814111538332781, \n",
    "          'reg_lambda': 3.115892763637826,\n",
    "          'verbose': -1,\n",
    "         }"
   ]
  },
  {
   "cell_type": "code",
   "execution_count": 27,
   "id": "510eed8a-13b0-488d-9703-7408b5047665",
   "metadata": {},
   "outputs": [
    {
     "name": "stdout",
     "output_type": "stream",
     "text": [
      "Training until validation scores don't improve for 50 rounds\n",
      "[100]\ttraining's multi_logloss: 1.09615\tvalid_1's multi_logloss: 1.11603\n",
      "[200]\ttraining's multi_logloss: 0.91235\tvalid_1's multi_logloss: 0.949527\n",
      "[300]\ttraining's multi_logloss: 0.815509\tvalid_1's multi_logloss: 0.866821\n",
      "[400]\ttraining's multi_logloss: 0.724308\tvalid_1's multi_logloss: 0.786201\n",
      "[500]\ttraining's multi_logloss: 0.664288\tvalid_1's multi_logloss: 0.736197\n",
      "[600]\ttraining's multi_logloss: 0.615883\tvalid_1's multi_logloss: 0.696274\n",
      "[700]\ttraining's multi_logloss: 0.57689\tvalid_1's multi_logloss: 0.664652\n",
      "[800]\ttraining's multi_logloss: 0.546274\tvalid_1's multi_logloss: 0.641191\n",
      "[900]\ttraining's multi_logloss: 0.510113\tvalid_1's multi_logloss: 0.61041\n",
      "[1000]\ttraining's multi_logloss: 0.487786\tvalid_1's multi_logloss: 0.593985\n",
      "Did not meet early stopping. Best iteration is:\n",
      "[1000]\ttraining's multi_logloss: 0.487786\tvalid_1's multi_logloss: 0.593985\n"
     ]
    },
    {
     "data": {
      "text/plain": [
       "LGBMClassifier(colsample_bytree=0.1991348172483006,\n",
       "               learning_rate=0.038271390011357716, max_depth=10,\n",
       "               min_child_samples=36, min_child_weight=15, n_estimators=1000,\n",
       "               num_leaves=41, reg_alpha=1.814111538332781,\n",
       "               reg_lambda=3.115892763637826, subsample=0.8240659327203188,\n",
       "               verbose=-1)"
      ]
     },
     "execution_count": 27,
     "metadata": {},
     "output_type": "execute_result"
    }
   ],
   "source": [
    "model = LGBMClassifier(**params)\n",
    "model.fit(xt, yt, eval_set = [(xt,yt),(xv,yv)],\n",
    "          eval_metric = 'multi_logloss',\n",
    "          callbacks = [lgb.early_stopping(stopping_rounds=50), \n",
    "                      lgb.log_evaluation(period=100)])"
   ]
  },
  {
   "cell_type": "code",
   "execution_count": null,
   "id": "4a59beff-2844-43df-a8b7-78aecd44be77",
   "metadata": {},
   "outputs": [],
   "source": [
    "# [1000]\ttraining's multi_logloss: 0.691546\tvalid_1's multi_logloss: 0.759675\n",
    "# [1000]\ttraining's multi_logloss: 0.487786\tvalid_1's multi_logloss: 0.593985"
   ]
  },
  {
   "cell_type": "markdown",
   "id": "202e00c0-6fd6-4aa3-ba72-aba3445b4cb4",
   "metadata": {},
   "source": [
    "#### ● feature importance 그래프 확인"
   ]
  },
  {
   "cell_type": "code",
   "execution_count": 30,
   "id": "0a114500-6ad3-44ae-a211-82acdae93cbb",
   "metadata": {},
   "outputs": [],
   "source": [
    "import matplotlib.pyplot as plt\n",
    "plt.rcParams['font.family'] ='Malgun Gothic'\n",
    "plt.rcParams['axes.unicode_minus'] =False"
   ]
  },
  {
   "cell_type": "code",
   "execution_count": 34,
   "id": "b883fe31-e5db-4f6c-8bb3-39a823f1266a",
   "metadata": {},
   "outputs": [
    {
     "data": {
      "text/plain": [
       "<AxesSubplot:title={'center':'Feature importance'}, xlabel='Feature importance', ylabel='Features'>"
      ]
     },
     "execution_count": 34,
     "metadata": {},
     "output_type": "execute_result"
    },
    {
     "data": {
      "image/png": "[encoded data removed]",
      "text/plain": [
       "<Figure size 800x600 with 1 Axes>"
      ]
     },
     "metadata": {},
     "output_type": "display_data"
    }
   ],
   "source": [
    "from lightgbm import plot_importance\n",
    "plot_importance(model, figsize=(8, 6))"
   ]
  },
  {
   "cell_type": "markdown",
   "id": "f3e90b24-6ba1-477e-9b24-0c586f94daef",
   "metadata": {},
   "source": [
    "#### ● result.csv 제출파일 저장"
   ]
  },
  {
   "cell_type": "code",
   "execution_count": 46,
   "id": "bb942734-4dc9-44d0-8a69-7bc09de87819",
   "metadata": {},
   "outputs": [
    {
     "data": {
      "text/html": [
       "<div>\n",
       "<style scoped>\n",
       "    .dataframe tbody tr th:only-of-type {\n",
       "        vertical-align: middle;\n",
       "    }\n",
       "\n",
       "    .dataframe tbody tr th {\n",
       "        vertical-align: top;\n",
       "    }\n",
       "\n",
       "    .dataframe thead th {\n",
       "        text-align: right;\n",
       "    }\n",
       "</style>\n",
       "<table border=\"1\" class=\"dataframe\">\n",
       "  <thead>\n",
       "    <tr style=\"text-align: right;\">\n",
       "      <th></th>\n",
       "      <th>ID</th>\n",
       "      <th>대출금액</th>\n",
       "      <th>대출기간</th>\n",
       "      <th>근로기간</th>\n",
       "      <th>주택소유상태</th>\n",
       "      <th>연간소득</th>\n",
       "      <th>부채_대비_소득_비율</th>\n",
       "      <th>총계좌수</th>\n",
       "      <th>대출목적</th>\n",
       "      <th>최근_2년간_연체_횟수</th>\n",
       "      <th>총상환원금</th>\n",
       "      <th>총상환이자</th>\n",
       "      <th>총연체금액</th>\n",
       "      <th>연체계좌수</th>\n",
       "    </tr>\n",
       "  </thead>\n",
       "  <tbody>\n",
       "    <tr>\n",
       "      <th>11299</th>\n",
       "      <td>TEST_11299</td>\n",
       "      <td>6000000</td>\n",
       "      <td>0</td>\n",
       "      <td>10.0</td>\n",
       "      <td>1</td>\n",
       "      <td>111600000</td>\n",
       "      <td>9.25</td>\n",
       "      <td>21</td>\n",
       "      <td>1</td>\n",
       "      <td>1</td>\n",
       "      <td>458340</td>\n",
       "      <td>88104</td>\n",
       "      <td>0</td>\n",
       "      <td>0</td>\n",
       "    </tr>\n",
       "    <tr>\n",
       "      <th>25928</th>\n",
       "      <td>TEST_25928</td>\n",
       "      <td>26490000</td>\n",
       "      <td>1</td>\n",
       "      <td>7.0</td>\n",
       "      <td>2</td>\n",
       "      <td>72000000</td>\n",
       "      <td>1.08</td>\n",
       "      <td>9</td>\n",
       "      <td>1</td>\n",
       "      <td>0</td>\n",
       "      <td>577188</td>\n",
       "      <td>666228</td>\n",
       "      <td>0</td>\n",
       "      <td>0</td>\n",
       "    </tr>\n",
       "    <tr>\n",
       "      <th>53493</th>\n",
       "      <td>TEST_53493</td>\n",
       "      <td>12000000</td>\n",
       "      <td>1</td>\n",
       "      <td>10.0</td>\n",
       "      <td>1</td>\n",
       "      <td>63000000</td>\n",
       "      <td>19.38</td>\n",
       "      <td>30</td>\n",
       "      <td>0</td>\n",
       "      <td>0</td>\n",
       "      <td>491004</td>\n",
       "      <td>236616</td>\n",
       "      <td>0</td>\n",
       "      <td>0</td>\n",
       "    </tr>\n",
       "    <tr>\n",
       "      <th>48741</th>\n",
       "      <td>TEST_48741</td>\n",
       "      <td>6000000</td>\n",
       "      <td>0</td>\n",
       "      <td>10.0</td>\n",
       "      <td>1</td>\n",
       "      <td>72000000</td>\n",
       "      <td>15.15</td>\n",
       "      <td>46</td>\n",
       "      <td>0</td>\n",
       "      <td>0</td>\n",
       "      <td>288468</td>\n",
       "      <td>92040</td>\n",
       "      <td>0</td>\n",
       "      <td>0</td>\n",
       "    </tr>\n",
       "    <tr>\n",
       "      <th>15611</th>\n",
       "      <td>TEST_15611</td>\n",
       "      <td>12000000</td>\n",
       "      <td>0</td>\n",
       "      <td>6.0</td>\n",
       "      <td>0</td>\n",
       "      <td>115200000</td>\n",
       "      <td>17.23</td>\n",
       "      <td>31</td>\n",
       "      <td>0</td>\n",
       "      <td>1</td>\n",
       "      <td>1193088</td>\n",
       "      <td>314796</td>\n",
       "      <td>0</td>\n",
       "      <td>0</td>\n",
       "    </tr>\n",
       "  </tbody>\n",
       "</table>\n",
       "</div>"
      ],
      "text/plain": [
       "               ID      대출금액  대출기간  근로기간  주택소유상태       연간소득  부채_대비_소득_비율  총계좌수  \\\n",
       "11299  TEST_11299   6000000     0  10.0       1  111600000         9.25    21   \n",
       "25928  TEST_25928  26490000     1   7.0       2   72000000         1.08     9   \n",
       "53493  TEST_53493  12000000     1  10.0       1   63000000        19.38    30   \n",
       "48741  TEST_48741   6000000     0  10.0       1   72000000        15.15    46   \n",
       "15611  TEST_15611  12000000     0   6.0       0  115200000        17.23    31   \n",
       "\n",
       "       대출목적  최근_2년간_연체_횟수    총상환원금   총상환이자  총연체금액  연체계좌수  \n",
       "11299     1             1   458340   88104      0      0  \n",
       "25928     1             0   577188  666228      0      0  \n",
       "53493     0             0   491004  236616      0      0  \n",
       "48741     0             0   288468   92040      0      0  \n",
       "15611     0             1  1193088  314796      0      0  "
      ]
     },
     "execution_count": 46,
     "metadata": {},
     "output_type": "execute_result"
    }
   ],
   "source": [
    "test.sample(5)"
   ]
  },
  {
   "cell_type": "code",
   "execution_count": 40,
   "id": "26581a2c-c6b8-41db-8d53-ac7560485e9e",
   "metadata": {},
   "outputs": [],
   "source": [
    "id_list = test['ID']\n",
    "pred = model.predict(test.drop(['ID'],axis=1))"
   ]
  },
  {
   "cell_type": "code",
   "execution_count": 51,
   "id": "0f235617-bf8a-4df7-adfc-aa0b65034876",
   "metadata": {},
   "outputs": [],
   "source": [
    "dic = {'ID' : id_list,\n",
    "      '대출등급' : pred}\n",
    "result = pd.DataFrame(dic)"
   ]
  },
  {
   "cell_type": "code",
   "execution_count": 54,
   "id": "2eb9cf77-3a5b-4cb5-8366-c6038504bedc",
   "metadata": {},
   "outputs": [],
   "source": [
    "result.to_csv('submit00.csv', index=False)"
   ]
  },
  {
   "cell_type": "code",
   "execution_count": 55,
   "id": "4140e89c-0016-442f-8d88-3baced657bdc",
   "metadata": {},
   "outputs": [],
   "source": [
    "# 0.7145점 수상이 0.92정도......^^....."
   ]
  }
 ],
 "metadata": {
  "kernelspec": {
   "display_name": "Python 3 (ipykernel)",
   "language": "python",
   "name": "python3"
  },
  "language_info": {
   "codemirror_mode": {
    "name": "ipython",
    "version": 3
   },
   "file_extension": ".py",
   "mimetype": "text/x-python",
   "name": "python",
   "nbconvert_exporter": "python",
   "pygments_lexer": "ipython3",
   "version": "3.9.13"
  }
 },
 "nbformat": 4,
 "nbformat_minor": 5
}
